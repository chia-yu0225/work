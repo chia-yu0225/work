{
  "nbformat": 4,
  "nbformat_minor": 0,
  "metadata": {
    "colab": {
      "provenance": [],
      "authorship_tag": "ABX9TyPWfAUfiJut4z7Vi2MH0RnW",
      "include_colab_link": true
    },
    "kernelspec": {
      "name": "python3",
      "display_name": "Python 3"
    },
    "language_info": {
      "name": "python"
    }
  },
  "cells": [
    {
      "cell_type": "markdown",
      "metadata": {
        "id": "view-in-github",
        "colab_type": "text"
      },
      "source": [
        "<a href=\"https://colab.research.google.com/github/chia-yu0225/work/blob/main/EX04_03_%E5%AE%A2%E6%88%B6%E5%88%86%E7%BE%A4.ipynb\" target=\"_parent\"><img src=\"https://colab.research.google.com/assets/colab-badge.svg\" alt=\"Open In Colab\"/></a>"
      ]
    },
    {
      "cell_type": "code",
      "execution_count": null,
      "metadata": {
        "id": "SMQhlpP8913E"
      },
      "outputs": [],
      "source": [
        "!wget -O car_models.csv https://raw.githubusercontent.com/imchihchao/aop113b/main/materials/04-customer.csv"
      ]
    },
    {
      "cell_type": "code",
      "source": [
        "import pandas as pd\n",
        "url = 'https://raw.githubusercontent.com/imchihchao/aop113b/main/materials/04-customer.csv'\n",
        "df = pd.read_csv(url)\n",
        "df.head()"
      ],
      "metadata": {
        "id": "Zw0_irHM_SwD"
      },
      "execution_count": null,
      "outputs": []
    },
    {
      "cell_type": "code",
      "source": [
        "df.info()"
      ],
      "metadata": {
        "id": "2vkMGKxY_bMh"
      },
      "execution_count": null,
      "outputs": []
    },
    {
      "cell_type": "code",
      "source": [
        "df_cor = df.drop(columns='性別').corr()\n",
        "df_cor"
      ],
      "metadata": {
        "id": "qAXBlvkG_fro"
      },
      "execution_count": null,
      "outputs": []
    },
    {
      "cell_type": "code",
      "source": [
        "df['性別'].unique()"
      ],
      "metadata": {
        "id": "3POKJm9I_smh"
      },
      "execution_count": null,
      "outputs": []
    },
    {
      "cell_type": "code",
      "source": [
        "from sklearn.preprocessing import OrdinalEncoder\n",
        "encoder = OrdinalEncoder(categories=[[ '女','男']])\n",
        "df['性別'] = encoder.fit_transform(df[['性別']])\n",
        "df"
      ],
      "metadata": {
        "id": "kGRgL_M8AjV6"
      },
      "execution_count": null,
      "outputs": []
    },
    {
      "cell_type": "code",
      "source": [
        "from sklearn.cluster import KMeans\n",
        "kmeans = KMeans(n_clusters=3)\n",
        "kmeans.fit(df)"
      ],
      "metadata": {
        "id": "6J7KIw4hA6tA"
      },
      "execution_count": null,
      "outputs": []
    },
    {
      "cell_type": "code",
      "source": [
        "df['cluster'] = kmeans.labels_\n",
        "df"
      ],
      "metadata": {
        "id": "glBQC6VYBGXw"
      },
      "execution_count": null,
      "outputs": []
    },
    {
      "cell_type": "code",
      "source": [
        "df.groupby('cluster').mean()"
      ],
      "metadata": {
        "id": "QjHmrmDOBLj8"
      },
      "execution_count": null,
      "outputs": []
    },
    {
      "cell_type": "code",
      "source": [
        "from sklearn.metrics import calinski_harabasz_score\n",
        "score = calinski_harabasz_score(df.drop(columns='cluster'), kmeans.labels_)\n",
        "score"
      ],
      "metadata": {
        "id": "xxn2oKkEBPpw"
      },
      "execution_count": null,
      "outputs": []
    },
    {
      "cell_type": "code",
      "source": [
        "df_nocluster = df.drop(columns='cluster')\n",
        "for i in range(2,16):\n",
        "    kmeans = KMeans(n_clusters=i)\n",
        "    kmeans.fit(df_nocluster)\n",
        "    score = calinski_harabasz_score(df_nocluster, kmeans.labels_)\n",
        "    print(f'k={i} score={score}')"
      ],
      "metadata": {
        "id": "lgmCxvI4Bces"
      },
      "execution_count": null,
      "outputs": []
    }
  ]
}