{
  "nbformat": 4,
  "nbformat_minor": 0,
  "metadata": {
    "colab": {
      "provenance": [],
      "authorship_tag": "ABX9TyOo597CThsbHQtNWvS6L98t",
      "include_colab_link": true
    },
    "kernelspec": {
      "name": "python3",
      "display_name": "Python 3"
    },
    "language_info": {
      "name": "python"
    }
  },
  "cells": [
    {
      "cell_type": "markdown",
      "metadata": {
        "id": "view-in-github",
        "colab_type": "text"
      },
      "source": [
        "<a href=\"https://colab.research.google.com/github/chia-yu0225/work/blob/main/EX04_02_%E5%AE%A2%E6%88%B6%E5%9F%BA%E6%9C%AC%E8%B3%87%E6%96%99%E7%B7%A8%E7%A2%BC.ipynb\" target=\"_parent\"><img src=\"https://colab.research.google.com/assets/colab-badge.svg\" alt=\"Open In Colab\"/></a>"
      ]
    },
    {
      "cell_type": "code",
      "execution_count": null,
      "metadata": {
        "id": "a8T0vZy00lbm"
      },
      "outputs": [],
      "source": [
        "!wget -O customer_contact_status.csv https://raw.githubusercontent.com/imchihchao/aop113b/main/materials/04-dataset_customer_contact_status.csv"
      ]
    },
    {
      "cell_type": "code",
      "source": [
        "import pandas as pd\n",
        "url = 'https://raw.githubusercontent.com/imchihchao/aop113b/main/materials/04-dataset_customer_contact_status.csv'\n",
        "df = pd.read_csv(url)\n",
        "df.head()"
      ],
      "metadata": {
        "id": "ZOv7ZPQ_7LUk"
      },
      "execution_count": null,
      "outputs": []
    },
    {
      "cell_type": "code",
      "source": [
        "df['學歷'].unique(), df['聯絡資訊'].unique(), df['訂購'].unique()"
      ],
      "metadata": {
        "id": "5G8w0oX17ZNt"
      },
      "execution_count": null,
      "outputs": []
    },
    {
      "cell_type": "code",
      "source": [
        "from sklearn.preprocessing import OrdinalEncoder\n",
        "encoder = OrdinalEncoder(categories=[ ['小學','國中','高職','高中','專科','大學','博士'],['市話','手機'],['從未','一次','偶爾','頻繁']])\n",
        "df[['學歷', '聯絡資訊', '訂購']] = encoder.fit_transform(df[['學歷', '聯絡資訊', '訂購']])\n",
        "df"
      ],
      "metadata": {
        "id": "w8IK7zKI7zZO"
      },
      "execution_count": null,
      "outputs": []
    },
    {
      "cell_type": "code",
      "source": [
        "from sklearn.preprocessing import OneHotEncoder\n",
        "encoder = OneHotEncoder(sparse_output=False, drop='first')\n",
        "encoded_data = encoder.fit_transform(df[['工作','婚姻']])\n",
        "encoded_columns = encoder.get_feature_names_out(['工作','婚姻'])\n",
        "encoded_df = pd.DataFrame(encoded_data, columns=encoded_columns)\n",
        "df"
      ],
      "metadata": {
        "id": "OZAFkuTR8vJs"
      },
      "execution_count": null,
      "outputs": []
    },
    {
      "cell_type": "code",
      "source": [
        "df = pd.concat([df.drop(['工作','婚姻'], axis=1), encoded_df], axis=1)\n",
        "df"
      ],
      "metadata": {
        "id": "tOanlsG59bkT"
      },
      "execution_count": null,
      "outputs": []
    }
  ]
}