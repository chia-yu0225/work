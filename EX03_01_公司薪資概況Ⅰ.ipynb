{
  "nbformat": 4,
  "nbformat_minor": 0,
  "metadata": {
    "colab": {
      "provenance": [],
      "authorship_tag": "ABX9TyPu2sTz2JxHUu/cnRes4RX1",
      "include_colab_link": true
    },
    "kernelspec": {
      "name": "python3",
      "display_name": "Python 3"
    },
    "language_info": {
      "name": "python"
    }
  },
  "cells": [
    {
      "cell_type": "markdown",
      "metadata": {
        "id": "view-in-github",
        "colab_type": "text"
      },
      "source": [
        "<a href=\"https://colab.research.google.com/github/chia-yu0225/work/blob/main/EX03_01_%E5%85%AC%E5%8F%B8%E8%96%AA%E8%B3%87%E6%A6%82%E6%B3%81%E2%85%A0.ipynb\" target=\"_parent\"><img src=\"https://colab.research.google.com/assets/colab-badge.svg\" alt=\"Open In Colab\"/></a>"
      ]
    },
    {
      "cell_type": "code",
      "execution_count": null,
      "metadata": {
        "id": "-h8842wQHImR"
      },
      "outputs": [],
      "source": [
        "import pandas as pd\n",
        "\n",
        "data = {\n",
        "    'ID': [101, 102, 103, 104, 105, 106, 107, 108, 109, 110],\n",
        "    'Name': ['Alice', 'Bob', 'Charlie', 'David', 'Eve', 'Frank', 'Grace', 'Helen', 'Ivy', 'Jack'],\n",
        "    'Age': [25, 30, 35, 40, 22, 29, 38, 27, 33, 31],\n",
        "    'City': ['New York', 'Los Angeles', 'Chicago', 'Houston', 'Phoenix', 'Philadelphia', 'San Antonio', 'San Diego', 'Dallas', 'San Jose'],\n",
        "    'Salary': [50000, 60000, 75000, 80000, 45000, 62000, 72000, 58000, 69000, 71000],\n",
        "    'Department': ['IT', 'HR', 'Finance', 'Marketing', 'IT', 'HR', 'Finance', 'Marketing', 'IT', 'Finance']\n",
        "}\n",
        "df = pd.DataFrame(data)\n",
        "df"
      ]
    },
    {
      "cell_type": "code",
      "source": [
        "df[['Name','Salary']]"
      ],
      "metadata": {
        "id": "K_OHc6B--Dae"
      },
      "execution_count": null,
      "outputs": []
    },
    {
      "cell_type": "code",
      "source": [
        "df.loc[5:8]"
      ],
      "metadata": {
        "id": "nQEF7hr6-Y6D"
      },
      "execution_count": null,
      "outputs": []
    },
    {
      "cell_type": "code",
      "source": [
        "df.iloc[5:9]"
      ],
      "metadata": {
        "id": "nQ_I3W56-efu"
      },
      "execution_count": null,
      "outputs": []
    },
    {
      "cell_type": "code",
      "source": [
        "avg_age = df['Age'].mean()\n",
        "avg_salary = df['Salary'].mean()\n",
        "\n",
        "df[(df['Age']>avg_age)&(df['Salary']>avg_salary)]"
      ],
      "metadata": {
        "id": "ycLfE0Yy-vIW"
      },
      "execution_count": null,
      "outputs": []
    },
    {
      "cell_type": "code",
      "source": [
        "print(df['Salary'].mean(), df['Salary'].max(), df['Salary'].min(), df['Salary'].median())"
      ],
      "metadata": {
        "id": "5h8_7YVO_OOX"
      },
      "execution_count": null,
      "outputs": []
    },
    {
      "cell_type": "code",
      "source": [
        "df['Department'].unique()"
      ],
      "metadata": {
        "id": "r6SvMofC_vt7"
      },
      "execution_count": null,
      "outputs": []
    },
    {
      "cell_type": "code",
      "source": [
        "print(df.groupby('Department')['Salary'].mean()).idxmax(), df.groupby('Department')['Salary'].mean().max()"
      ],
      "metadata": {
        "id": "-O7-ruzn_3BJ"
      },
      "execution_count": null,
      "outputs": []
    },
    {
      "cell_type": "code",
      "source": [
        "print(df.groupby('Department')['Age'].mean()).idxmin(), df.groupby('Department')['Age'].mean().min()"
      ],
      "metadata": {
        "id": "Z-SD9rmqADpB"
      },
      "execution_count": null,
      "outputs": []
    },
    {
      "cell_type": "code",
      "source": [
        "corr_matrix = df[['Age','Salary']].corr()\n",
        "corr_matrix"
      ],
      "metadata": {
        "id": "73ohwaFmAXLJ"
      },
      "execution_count": null,
      "outputs": []
    }
  ]
}