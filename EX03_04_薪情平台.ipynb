{
  "nbformat": 4,
  "nbformat_minor": 0,
  "metadata": {
    "colab": {
      "provenance": [],
      "authorship_tag": "ABX9TyMgen9imW4/uTN3zwfA109A",
      "include_colab_link": true
    },
    "kernelspec": {
      "name": "python3",
      "display_name": "Python 3"
    },
    "language_info": {
      "name": "python"
    }
  },
  "cells": [
    {
      "cell_type": "markdown",
      "metadata": {
        "id": "view-in-github",
        "colab_type": "text"
      },
      "source": [
        "<a href=\"https://colab.research.google.com/github/chia-yu0225/work/blob/main/EX03_04_%E8%96%AA%E6%83%85%E5%B9%B3%E5%8F%B0.ipynb\" target=\"_parent\"><img src=\"https://colab.research.google.com/assets/colab-badge.svg\" alt=\"Open In Colab\"/></a>"
      ]
    },
    {
      "cell_type": "code",
      "source": [
        "!wget -O earning.xlsx https://raw.githubusercontent.com/imchihchao/aop113b/main/materials/03-earnings.xlsx\n"
      ],
      "metadata": {
        "id": "kuY3OdugSH3R"
      },
      "execution_count": null,
      "outputs": []
    },
    {
      "cell_type": "code",
      "source": [
        "import pandas as pd\n",
        "url = 'https://raw.githubusercontent.com/imchihchao/aop113b/main/materials/03-earnings.xlsx'\n",
        "df = pd.read_excel('earning.xlsx')\n",
        "df"
      ],
      "metadata": {
        "id": "OQtPUauDOjGw"
      },
      "execution_count": null,
      "outputs": []
    },
    {
      "cell_type": "code",
      "source": [
        "df.drop(columns=['Unnamed: 0'], inplace=True)"
      ],
      "metadata": {
        "id": "Xn-YE14TPAp5"
      },
      "execution_count": null,
      "outputs": []
    },
    {
      "cell_type": "code",
      "source": [
        "df.dropna(subset=['Unnamed: 1'], inplace=True)"
      ],
      "metadata": {
        "id": "SQQy2X7QQEjD"
      },
      "execution_count": null,
      "outputs": []
    },
    {
      "cell_type": "code",
      "source": [
        "df.rename(columns={'Unnamed: 1':'年度'}, inplace=True)"
      ],
      "metadata": {
        "id": "7TOG1rKWQsvV"
      },
      "execution_count": null,
      "outputs": []
    },
    {
      "cell_type": "code",
      "source": [
        "df.set_index('年度',inplace=True)\n",
        "df"
      ],
      "metadata": {
        "id": "kcgX_5oRRIZW"
      },
      "execution_count": null,
      "outputs": []
    },
    {
      "cell_type": "code",
      "source": [
        "df.info()"
      ],
      "metadata": {
        "id": "OlOa4ZnFUfv-"
      },
      "execution_count": null,
      "outputs": []
    },
    {
      "cell_type": "code",
      "source": [
        "for col in df.columns:\n",
        "  df[col] = pd.to_numeric(df[col], errors='coerce')\n",
        "df"
      ],
      "metadata": {
        "id": "bRrMSjBbVDI_"
      },
      "execution_count": null,
      "outputs": []
    },
    {
      "cell_type": "code",
      "source": [
        "df.info()"
      ],
      "metadata": {
        "id": "URDmofwSVr5n"
      },
      "execution_count": null,
      "outputs": []
    },
    {
      "cell_type": "code",
      "source": [
        "df.loc['81年'].idxmax(), df.loc['81年'].max()"
      ],
      "metadata": {
        "id": "OmLkoBkRVurX"
      },
      "execution_count": null,
      "outputs": []
    },
    {
      "cell_type": "code",
      "source": [
        "df.loc['81年'].idxmin(), df.loc['81年'].min()"
      ],
      "metadata": {
        "id": "-CkJwMnUWDdY"
      },
      "execution_count": null,
      "outputs": []
    },
    {
      "cell_type": "code",
      "source": [
        "df['醫療保健及社會工作服務業'].idxmax(), df['醫療保健及社會工作服務業'].max()"
      ],
      "metadata": {
        "id": "kEIzS70yWopg"
      },
      "execution_count": null,
      "outputs": []
    },
    {
      "cell_type": "code",
      "source": [
        "df.loc['113年'].nlargest(3)"
      ],
      "metadata": {
        "id": "axY8opOjXilC"
      },
      "execution_count": null,
      "outputs": []
    },
    {
      "cell_type": "code",
      "source": [
        "df.loc['113年'].nsmallest(3)"
      ],
      "metadata": {
        "id": "7S5gufNDYBy4"
      },
      "execution_count": null,
      "outputs": []
    },
    {
      "cell_type": "code",
      "source": [
        "for id in df.index:\n",
        "  print(id, df.loc[id].nlargest(3).index.to_list())"
      ],
      "metadata": {
        "id": "VnNAL-OKYKtr"
      },
      "execution_count": null,
      "outputs": []
    },
    {
      "cell_type": "code",
      "source": [
        "for id in df.index:\n",
        "  print(id, df.loc[id].nsmallest(3).index.to_list())"
      ],
      "metadata": {
        "colab": {
          "base_uri": "https://localhost:8080/"
        },
        "id": "gjwbqoV5ZaLf",
        "outputId": "f4aa1c1c-f6cc-432f-95d8-ea2c10d30541"
      },
      "execution_count": 30,
      "outputs": [
        {
          "output_type": "stream",
          "name": "stdout",
          "text": [
            "81年 ['住宿及餐飲業', '藝術﹑娛樂及休閒服務業', '其他服務業']\n",
            "82年 ['住宿及餐飲業', '藝術﹑娛樂及休閒服務業', '其他服務業']\n",
            "83年 ['住宿及餐飲業', '藝術﹑娛樂及休閒服務業', '其他服務業']\n",
            "84年 ['藝術﹑娛樂及休閒服務業', '住宿及餐飲業', '其他服務業']\n",
            "85年 ['住宿及餐飲業', '藝術﹑娛樂及休閒服務業', '其他服務業']\n",
            "86年 ['住宿及餐飲業', '藝術﹑娛樂及休閒服務業', '其他服務業']\n",
            "87年 ['住宿及餐飲業', '藝術﹑娛樂及休閒服務業', '其他服務業']\n",
            "88年 ['住宿及餐飲業', '藝術﹑娛樂及休閒服務業', '其他服務業']\n",
            "89年 ['住宿及餐飲業', '藝術﹑娛樂及休閒服務業', '其他服務業']\n",
            "90年 ['住宿及餐飲業', '藝術﹑娛樂及休閒服務業', '其他服務業']\n",
            "91年 ['住宿及餐飲業', '藝術﹑娛樂及休閒服務業', '其他服務業']\n",
            "92年 ['住宿及餐飲業', '藝術﹑娛樂及休閒服務業', '其他服務業']\n",
            "93年 ['住宿及餐飲業', '其他服務業', '藝術﹑娛樂及休閒服務業']\n",
            "94年 ['住宿及餐飲業', '藝術﹑娛樂及休閒服務業', '其他服務業']\n",
            "95年 ['住宿及餐飲業', '其他服務業', '藝術﹑娛樂及休閒服務業']\n",
            "96年 ['住宿及餐飲業', '其他服務業', '藝術﹑娛樂及休閒服務業']\n",
            "97年 ['住宿及餐飲業', '其他服務業', '藝術﹑娛樂及休閒服務業']\n",
            "98年 ['教育業（不含小學以上各級公私立學校等）', '住宿及餐飲業', '其他服務業']\n",
            "99年 ['教育業（不含小學以上各級公私立學校等）', '住宿及餐飲業', '其他服務業']\n",
            "100年 ['教育業（不含小學以上各級公私立學校等）', '住宿及餐飲業', '其他服務業']\n",
            "101年 ['教育業（不含小學以上各級公私立學校等）', '住宿及餐飲業', '其他服務業']\n",
            "102年 ['教育業（不含小學以上各級公私立學校等）', '住宿及餐飲業', '其他服務業']\n",
            "103年 ['教育業（不含小學以上各級公私立學校等）', '住宿及餐飲業', '支援服務業']\n",
            "104年 ['教育業（不含小學以上各級公私立學校等）', '住宿及餐飲業', '其他服務業']\n",
            "105年 ['教育業（不含小學以上各級公私立學校等）', '住宿及餐飲業', '其他服務業']\n",
            "106年 ['教育業（不含小學以上各級公私立學校等）', '住宿及餐飲業', '其他服務業']\n",
            "107年 ['教育業（不含小學以上各級公私立學校等）', '住宿及餐飲業', '其他服務業']\n",
            "108年 ['教育業（不含小學以上各級公私立學校等）', '住宿及餐飲業', '其他服務業']\n",
            "109年 ['教育業（不含小學以上各級公私立學校等）', '住宿及餐飲業', '其他服務業']\n",
            "110年 ['教育業（不含小學以上各級公私立學校等）', '住宿及餐飲業', '其他服務業']\n",
            "111年 ['教育業（不含小學以上各級公私立學校等）', '住宿及餐飲業', '支援服務業']\n",
            "112年 ['教育業（不含小學以上各級公私立學校等）', '住宿及餐飲業', '支援服務業']\n",
            "113年 ['教育業（不含小學以上各級公私立學校等）', '住宿及餐飲業', '其他服務業']\n"
          ]
        }
      ]
    }
  ]
}