{
  "nbformat": 4,
  "nbformat_minor": 0,
  "metadata": {
    "colab": {
      "provenance": [],
      "authorship_tag": "ABX9TyOdBUyHCwrmLth8vJMWRWVM",
      "include_colab_link": true
    },
    "kernelspec": {
      "name": "python3",
      "display_name": "Python 3"
    },
    "language_info": {
      "name": "python"
    }
  },
  "cells": [
    {
      "cell_type": "markdown",
      "metadata": {
        "id": "view-in-github",
        "colab_type": "text"
      },
      "source": [
        "<a href=\"https://colab.research.google.com/github/chia-yu0225/work/blob/main/%E8%82%A1%E5%83%B9%E5%88%86%E6%9E%90.ipynb\" target=\"_parent\"><img src=\"https://colab.research.google.com/assets/colab-badge.svg\" alt=\"Open In Colab\"/></a>"
      ]
    },
    {
      "cell_type": "markdown",
      "source": [
        "# 台積電和連發科股價分析比較"
      ],
      "metadata": {
        "id": "MCfrMaavTksg"
      }
    },
    {
      "cell_type": "markdown",
      "source": [
        "# 摘要"
      ],
      "metadata": {
        "id": "MLN_mLe1Twu5"
      }
    },
    {
      "cell_type": "markdown",
      "source": [
        "1. 中文字型設定\n",
        "使用 Taipei Sans TC Beta 解決圖表中文字亂碼問題。\n",
        "\n",
        "2. 資料擷取與清洗\n",
        "抓取台積電（2330）與聯發科（2454）在2025 年 5 月的每日股價。\n",
        "\n",
        " 處理欄位格式（日期、收盤價、成交股數、漲跌價差）。\n",
        "3. 資料視覺化分析\n",
        "  收盤價折線圖比較\n",
        "\n",
        "  比較兩檔股票的股價走勢。\n",
        "\n",
        "  成交股數長條圖比較\n",
        "\n",
        "  對比兩檔股票每日的成交量。\n",
        "\n",
        "  雙軸圖（收盤價 + 成交量）\n",
        "\n",
        "  同一檔股票的價格與成交量一起觀察。\n",
        "\n",
        "  雙軸圖（成交量紅漲綠跌）\n",
        "\n",
        "  成交量用顏色區分漲跌（紅色＝漲，綠色＝跌）增加可視辨識度。"
      ],
      "metadata": {
        "id": "fG_dbc6DT7fv"
      }
    },
    {
      "cell_type": "markdown",
      "source": [
        "# 程式主體"
      ],
      "metadata": {
        "id": "Qe-_Y4tXUlMO"
      }
    },
    {
      "cell_type": "code",
      "execution_count": null,
      "metadata": {
        "id": "Lo7jOfP6TVZ7"
      },
      "outputs": [],
      "source": [
        "# 字型下載與中文設定（只需執行一次）\n",
        "!wget -O taipei_sans_tc_beta.ttf https://drive.google.com/uc?id=1eGAsTN1HBpJAkeVM57_C7ccp7hbgSz3_&export=download\n",
        "\n",
        "import matplotlib\n",
        "import matplotlib.pyplot as plt\n",
        "matplotlib.font_manager.fontManager.addfont('taipei_sans_tc_beta.ttf')\n",
        "plt.rcParams['font.sans-serif'] = ['Taipei Sans TC Beta']\n",
        "plt.rcParams['axes.unicode_minus'] = False\n",
        "\n",
        "# 載入 pandas 等模組\n",
        "import pandas as pd\n",
        "\n",
        "# 資料抓取函式\n",
        "def get_stock_data(date, stock_no):\n",
        "    url = f'https://www.twse.com.tw/rwd/zh/afterTrading/STOCK_DAY?date={date}&stockNo={stock_no}&response=html'\n",
        "    df = pd.read_html(url, header=1)[0]\n",
        "    df['股票代號'] = stock_no\n",
        "    return df\n",
        "\n",
        "# 設定查詢條件（2025 年 5 月，台積電+聯發科）\n",
        "stock_list = ['2330', '2454']  # 台積電、聯發科\n",
        "date = '20250501'\n",
        "df_all = pd.DataFrame()\n",
        "\n",
        "# 抓取並整合資料\n",
        "for stock in stock_list:\n",
        "    df_all = pd.concat([df_all, get_stock_data(date, stock)], ignore_index=True)\n",
        "\n",
        "# 清洗資料\n",
        "df_all['日期'] = pd.to_datetime(df_all['日期'], errors='coerce')\n",
        "df_all['收盤價'] = pd.to_numeric(df_all['收盤價'], errors='coerce')\n",
        "df_all['成交股數'] = pd.to_numeric(df_all['成交股數'].str.replace(',', ''), errors='coerce')\n",
        "df_all['漲跌價差'] = pd.to_numeric(df_all['漲跌價差'], errors='coerce')\n",
        "df_all = df_all.dropna(subset=['日期', '收盤價'])\n",
        "\n",
        "# 顏色標示：漲紅跌綠\n",
        "df_all['color'] = df_all['漲跌價差'].apply(lambda x: 'green' if x < 0 else 'red')\n",
        "\n",
        "# 收盤價比較折線圖\n",
        "plt.figure(figsize=(12,4))\n",
        "for stock in stock_list:\n",
        "    df = df_all[df_all['股票代號'] == stock]\n",
        "    plt.plot(df['日期'], df['收盤價'], label=f'股票 {stock}')\n",
        "plt.legend()\n",
        "plt.title('收盤價比較')\n",
        "plt.xlabel('日期')\n",
        "plt.ylabel('收盤價')\n",
        "plt.grid(True)\n",
        "plt.show()\n",
        "\n",
        "# 成交股數比較長條圖\n",
        "plt.figure(figsize=(12,4))\n",
        "for stock in stock_list:\n",
        "    df = df_all[df_all['股票代號'] == stock]\n",
        "    plt.bar(df['日期'], df['成交股數'], alpha=0.5, label=f'股票 {stock}')\n",
        "plt.legend()\n",
        "plt.title('成交股數比較')\n",
        "plt.xlabel('日期')\n",
        "plt.ylabel('成交股數')\n",
        "plt.show()\n",
        "\n",
        "# 雙軸圖：收盤價+成交量\n",
        "for stock in stock_list:\n",
        "    df = df_all[df_all['股票代號'] == stock]\n",
        "    fig, ax1 = plt.subplots(figsize=(12,4))\n",
        "    ax1.plot(df['日期'], df['收盤價'], color='blue')\n",
        "    ax1.set_ylabel('收盤價', color='blue')\n",
        "\n",
        "    ax2 = ax1.twinx()\n",
        "    ax2.bar(df['日期'], df['成交股數'], color='gray', alpha=0.5)\n",
        "    ax2.set_ylabel('成交股數', color='gray')\n",
        "\n",
        "    plt.title(f'股票 {stock}：收盤價與成交量')\n",
        "    plt.show()\n",
        "\n",
        "# 雙軸圖：成交量以漲跌上色\n",
        "for stock in stock_list:\n",
        "    df = df_all[df_all['股票代號'] == stock]\n",
        "    fig, ax1 = plt.subplots(figsize=(12,4))\n",
        "    ax1.plot(df['日期'], df['收盤價'], color='blue')\n",
        "    ax1.set_ylabel('收盤價', color='blue')\n",
        "\n",
        "    ax2 = ax1.twinx()\n",
        "    ax2.bar(df['日期'], df['成交股數'], color=df['color'], alpha=0.6)\n",
        "    ax2.set_ylabel('成交股數', color='gray')\n",
        "\n",
        "    plt.title(f'股票 {stock}：收盤價與成交量（紅漲綠跌）')\n",
        "    plt.show()\n"
      ]
    },
    {
      "cell_type": "markdown",
      "source": [
        "# 未來展望"
      ],
      "metadata": {
        "id": "B-DRQzJzVB0Y"
      }
    },
    {
      "cell_type": "markdown",
      "source": [
        "可以加入輸入股票代號」、「選擇月份」的互動功能"
      ],
      "metadata": {
        "id": "NS01NPJuVEws"
      }
    }
  ]
}