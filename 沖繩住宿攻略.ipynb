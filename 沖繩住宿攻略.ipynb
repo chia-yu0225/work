{
  "nbformat": 4,
  "nbformat_minor": 0,
  "metadata": {
    "colab": {
      "provenance": [],
      "authorship_tag": "ABX9TyO/oTMzH/X3gETUvoA9HD0R",
      "include_colab_link": true
    },
    "kernelspec": {
      "name": "python3",
      "display_name": "Python 3"
    },
    "language_info": {
      "name": "python"
    }
  },
  "cells": [
    {
      "cell_type": "markdown",
      "metadata": {
        "id": "view-in-github",
        "colab_type": "text"
      },
      "source": [
        "<a href=\"https://colab.research.google.com/github/chia-yu0225/work/blob/main/%E6%B2%96%E7%B9%A9%E4%BD%8F%E5%AE%BF%E6%94%BB%E7%95%A5.ipynb\" target=\"_parent\"><img src=\"https://colab.research.google.com/assets/colab-badge.svg\" alt=\"Open In Colab\"/></a>"
      ]
    },
    {
      "cell_type": "markdown",
      "source": [
        "# *提供kkday上評價top10的旅館*\n",
        "\n",
        "\n",
        "\n",
        "\n",
        "\n",
        "\n",
        "\n",
        "\n",
        "\n"
      ],
      "metadata": {
        "id": "Q0cJeO1CRgE-"
      }
    },
    {
      "cell_type": "markdown",
      "source": [
        "# 程式碼"
      ],
      "metadata": {
        "id": "OAaNvHyt_TvJ"
      }
    },
    {
      "cell_type": "code",
      "source": [
        "import requests\n",
        "import pandas as pd\n",
        "from IPython.display import Image, display"
      ],
      "metadata": {
        "id": "_f9vvds8Acvs"
      },
      "execution_count": null,
      "outputs": []
    },
    {
      "cell_type": "markdown",
      "source": [
        "# Step 1: 抓資料"
      ],
      "metadata": {
        "id": "sKNQLo5vAgQW"
      }
    },
    {
      "cell_type": "code",
      "source": [
        "url = 'https://www.kkday.com/zh-tw/category/ajax_get_top_products?productCategory=CATEGORY_078&destination=D-JP-3225'\n",
        "headers = {\n",
        "    'User-Agent': 'Mozilla/5.0 (Windows NT 10.0; Win64; x64)'\n",
        "}\n",
        "response = requests.get(url, headers=headers)\n",
        "hotels = response.json()"
      ],
      "metadata": {
        "id": "kIQs3je7_ZT9"
      },
      "execution_count": null,
      "outputs": []
    },
    {
      "cell_type": "markdown",
      "source": [
        "#Step 2: 整理成 DataFrame"
      ],
      "metadata": {
        "id": "bLbAyengAlbP"
      }
    },
    {
      "cell_type": "code",
      "source": [
        "data = hotels['data']\n",
        "hotel_list = []\n",
        "\n",
        "for item in data:\n",
        "    try:\n",
        "        hotel_list.append({\n",
        "            '名稱': item['name'],\n",
        "            '評價星等': float(item['rating_star']),\n",
        "            '售價': item['sale_price'],\n",
        "            '簡介': item['introduction']\n",
        "        })\n",
        "    except:\n",
        "        continue\n",
        "\n",
        "df = pd.DataFrame(hotel_list)\n",
        "df = df.sort_values(by='評價星等', ascending=False).head(10)"
      ],
      "metadata": {
        "id": "keivw4TTAOy5"
      },
      "execution_count": null,
      "outputs": []
    },
    {
      "cell_type": "markdown",
      "source": [
        "# Step 3: 顯示前 10 筆資料"
      ],
      "metadata": {
        "id": "twtRpnqiAtjH"
      }
    },
    {
      "cell_type": "code",
      "source": [
        "for idx, row in df.iterrows():\n",
        "    print(f\"{row['名稱']}\")\n",
        "    print(f\"⭐️ 評價：{row['評價星等']} / 💰 價格：{row['售價']}\")\n",
        "    print(row['簡介'])\n",
        "    print('-' * 50)"
      ],
      "metadata": {
        "id": "BQFtRkn4AWBJ"
      },
      "execution_count": null,
      "outputs": []
    },
    {
      "cell_type": "markdown",
      "source": [
        "# Step 4: 匯出為 CSV 檔案"
      ],
      "metadata": {
        "id": "yy3S97QZAybv"
      }
    },
    {
      "cell_type": "code",
      "source": [
        "df.to_csv('沖繩住宿評價前10名.csv', index=False)\n",
        "print(\"✅ 已匯出成 CSV 檔：沖繩住宿評價前10名.csv\")"
      ],
      "metadata": {
        "id": "q5qGoX8-AWsg"
      },
      "execution_count": null,
      "outputs": []
    }
  ]
}