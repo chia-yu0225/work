{
  "nbformat": 4,
  "nbformat_minor": 0,
  "metadata": {
    "colab": {
      "provenance": [],
      "authorship_tag": "ABX9TyOHBM7hgaDVROdG2oskUsoo",
      "include_colab_link": true
    },
    "kernelspec": {
      "name": "python3",
      "display_name": "Python 3"
    },
    "language_info": {
      "name": "python"
    }
  },
  "cells": [
    {
      "cell_type": "markdown",
      "metadata": {
        "id": "view-in-github",
        "colab_type": "text"
      },
      "source": [
        "<a href=\"https://colab.research.google.com/github/chia-yu0225/work/blob/main/EX04_05_%E8%BE%A8%E8%AD%98%E9%B3%B6%E5%B0%BE%E8%8A%B1.ipynb\" target=\"_parent\"><img src=\"https://colab.research.google.com/assets/colab-badge.svg\" alt=\"Open In Colab\"/></a>"
      ]
    },
    {
      "cell_type": "code",
      "execution_count": null,
      "metadata": {
        "id": "gvDAaqdsN2K5"
      },
      "outputs": [],
      "source": [
        "from sklean.datasets import load_iris\n",
        "iris = load_iris(as_frame=True)\n",
        "\n",
        "X, y = iris.data, iris.target\n",
        "df = iris.frame"
      ]
    },
    {
      "cell_type": "code",
      "source": [
        "df"
      ],
      "metadata": {
        "id": "4hgmrZYipZEx"
      },
      "execution_count": null,
      "outputs": []
    },
    {
      "cell_type": "code",
      "source": [
        "df.info"
      ],
      "metadata": {
        "id": "Yki2P5NDpZ1X"
      },
      "execution_count": null,
      "outputs": []
    },
    {
      "cell_type": "code",
      "source": [
        "df_cor = df.corr()\n",
        "df_cor"
      ],
      "metadata": {
        "id": "US7FESOjpcuJ"
      },
      "execution_count": null,
      "outputs": []
    },
    {
      "cell_type": "code",
      "source": [
        "import seaborn as sns\n",
        "import matplotlib.pyplot as plt\n",
        "\n",
        "sns.heatmap(df_cor, annot=True)\n",
        "plt.show()"
      ],
      "metadata": {
        "id": "rxLJ1N3WpgmU"
      },
      "execution_count": null,
      "outputs": []
    },
    {
      "cell_type": "code",
      "source": [
        "from sklean.model_selection import train_test_split\n",
        "\n",
        "X_train, X_test, y_train, y_test = train_test_split(X, y, test_size=0.2, random_state=42)"
      ],
      "metadata": {
        "id": "onsyJbp_pqw4"
      },
      "execution_count": null,
      "outputs": []
    },
    {
      "cell_type": "code",
      "source": [
        "from sklearn.preprocessing import StandardScaler\n",
        "\n",
        "scaler = StandardScaler()\n",
        "X_train = scaler.fit_transform(X_train)\n",
        "X_test = scaler.transform(X_test)\n"
      ],
      "metadata": {
        "id": "qObo6xQOpyoX"
      },
      "execution_count": null,
      "outputs": []
    },
    {
      "cell_type": "code",
      "source": [
        "from sklearn.neighbors import KNeighborsClassifier\n",
        "knn = KNeighborsClassifier(n_neighbors=5)\n",
        "knn.fit(X_train, y_train)"
      ],
      "metadata": {
        "id": "5UyjbDoUp6hK"
      },
      "execution_count": null,
      "outputs": []
    },
    {
      "cell_type": "code",
      "source": [
        "knn.score(X_train, y_train)"
      ],
      "metadata": {
        "id": "KleEHMZPqEDL"
      },
      "execution_count": null,
      "outputs": []
    },
    {
      "cell_type": "code",
      "source": [
        "from sklearn.metrics import accuracy_score, classification_report\n",
        "y_pred = knn.predict(X_test)\n",
        "print(\"準確率\", accuracy_score(y_test, y_pred))\n",
        "print(\"分類報告\",classification_report)"
      ],
      "metadata": {
        "id": "ntjtgeffqKdA"
      },
      "execution_count": null,
      "outputs": []
    },
    {
      "cell_type": "code",
      "source": [
        "from sklearn.model_selection import GridSearchCV\n",
        "param_grid = { 'n_neighbors':[3,5,7], 'weights':[\"uniform\",\"distance\"]}\n",
        "grid = GridSearchCV(knn, param_grid=param_grid, cv=5)\n",
        "grid_search.fit(X_train, y_train)"
      ],
      "metadata": {
        "id": "rr1zh9Wlqibv"
      },
      "execution_count": null,
      "outputs": []
    },
    {
      "cell_type": "code",
      "source": [
        "grid.best_score_"
      ],
      "metadata": {
        "id": "p4PhNmFqq_6D"
      },
      "execution_count": null,
      "outputs": []
    },
    {
      "cell_type": "code",
      "source": [
        "grid.best_score_"
      ],
      "metadata": {
        "id": "CffJfNvCrEP5"
      },
      "execution_count": null,
      "outputs": []
    },
    {
      "cell_type": "code",
      "source": [
        "import joblib\n",
        "joblib.dump(knn, 'knn_model.pkl')\n",
        "joblib.dump(scaler, 'scaler_model.pkl')"
      ],
      "metadata": {
        "id": "3EyEQ0-3rIaj"
      },
      "execution_count": null,
      "outputs": []
    },
    {
      "cell_type": "code",
      "source": [
        "loaded_knn = joblib.load('knn_model.pkl')\n",
        "loaded_scaler = joblib.load('scaler_model.pkl')"
      ],
      "metadata": {
        "id": "WVcNU0qprVeL"
      },
      "execution_count": null,
      "outputs": []
    },
    {
      "cell_type": "code",
      "source": [
        "import pandas as pd\n",
        "data = {\n",
        "    'sepal length (cm)': [5.1],\n",
        "    'sepal width (cm)': [3.5],\n",
        "    'petal length (cm)': [1.4],\n",
        "    'petal width (cm)': [0.2]\n",
        "}\n",
        "virtual_df = pd.DataFrame(data, columns=data.keys)\n",
        "virtual_df = loaded_scaler.transform(virtual_df)\n",
        "prediction = loaded_knn.predict(virtual_df)\n",
        "\n",
        "print(\"the predicted class is:\", prediction)\n",
        "\n",
        "iris_target_names = iris.target_names\n",
        "predicted_class_name = iris_target_names[prediction[0]]\n",
        "print(\"the predicted iris species is:\", predicted_class_name)"
      ],
      "metadata": {
        "id": "76dc6eDIra55"
      },
      "execution_count": null,
      "outputs": []
    }
  ]
}