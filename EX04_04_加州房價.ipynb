{
  "nbformat": 4,
  "nbformat_minor": 0,
  "metadata": {
    "colab": {
      "provenance": [],
      "authorship_tag": "ABX9TyNDvX8RXrNcxM7ZesUckNbt",
      "include_colab_link": true
    },
    "kernelspec": {
      "name": "python3",
      "display_name": "Python 3"
    },
    "language_info": {
      "name": "python"
    }
  },
  "cells": [
    {
      "cell_type": "markdown",
      "metadata": {
        "id": "view-in-github",
        "colab_type": "text"
      },
      "source": [
        "<a href=\"https://colab.research.google.com/github/chia-yu0225/work/blob/main/EX04_04_%E5%8A%A0%E5%B7%9E%E6%88%BF%E5%83%B9.ipynb\" target=\"_parent\"><img src=\"https://colab.research.google.com/assets/colab-badge.svg\" alt=\"Open In Colab\"/></a>"
      ]
    },
    {
      "cell_type": "code",
      "execution_count": null,
      "metadata": {
        "id": "EEfN58CCNqpa"
      },
      "outputs": [],
      "source": [
        "from sklearn.datasets import fetch_california_housing\n",
        "# 載入資料集\n",
        "california_housing = fetch_california_housing(as_frame=True)\n",
        "X, y = california_housing.data, california_housing.target\n",
        "df = california_housing.frame\n",
        "df"
      ]
    },
    {
      "cell_type": "code",
      "source": [
        "df.info()"
      ],
      "metadata": {
        "id": "CQS8M0PMgsqU"
      },
      "execution_count": null,
      "outputs": []
    },
    {
      "cell_type": "code",
      "source": [
        "df.describe()"
      ],
      "metadata": {
        "id": "L2OdVqILhN3e"
      },
      "execution_count": null,
      "outputs": []
    },
    {
      "cell_type": "code",
      "source": [
        "df_cor = df.corr()\n",
        "df_cor"
      ],
      "metadata": {
        "id": "C-JAkAcehSEq"
      },
      "execution_count": null,
      "outputs": []
    },
    {
      "cell_type": "code",
      "source": [
        "import seaborn as sns\n",
        "import matplotlib.pyplot as plt\n",
        "sns.heatmap(df_cor, annot=True)\n",
        "plt.show()"
      ],
      "metadata": {
        "id": "jsRseaLrhidL"
      },
      "execution_count": null,
      "outputs": []
    },
    {
      "cell_type": "code",
      "source": [
        "sns.scatterplot(data=df, x='Letitude','Longitude', hue='MedHouseVal')\n",
        "plt.show()"
      ],
      "metadata": {
        "id": "jqW5fuoShrHX"
      },
      "execution_count": null,
      "outputs": []
    },
    {
      "cell_type": "code",
      "source": [
        "sns.hisplot(data=df, x='MedHouseVal')\n",
        "plt.show()"
      ],
      "metadata": {
        "id": "lrIOP9dziIgX"
      },
      "execution_count": null,
      "outputs": []
    },
    {
      "cell_type": "code",
      "source": [
        "sns.histplot(data=df, x='MedInc')\n",
        "plt.show()"
      ],
      "metadata": {
        "id": "BRnfBJMMiURX"
      },
      "execution_count": null,
      "outputs": []
    },
    {
      "cell_type": "code",
      "source": [
        "sns.boxplot(data=df, x='MedHouseVal')\n",
        "plt.show()"
      ],
      "metadata": {
        "id": "0asehrUoiaaX"
      },
      "execution_count": null,
      "outputs": []
    },
    {
      "cell_type": "code",
      "source": [
        "sns.boxplot(data=df, x='AveRooms')\n",
        "plt.show()"
      ],
      "metadata": {
        "id": "-WYNMX73ieXC"
      },
      "execution_count": null,
      "outputs": []
    },
    {
      "cell_type": "code",
      "source": [
        "from sklearn.model_selection import train_test_split\n",
        "X_train, X_test, y_train, y_test = train_test_split(X, y, test_size=0.2, random_state=42)"
      ],
      "metadata": {
        "id": "ZY9801KYir6l"
      },
      "execution_count": null,
      "outputs": []
    },
    {
      "cell_type": "code",
      "source": [
        "from sklearn.preprocessing import StandardScaler\n",
        "scaler = StandardScaler()\n",
        "X_train = scaler.fit_transform(X_train)\n",
        "X_test = scaler.transform(X_test)"
      ],
      "metadata": {
        "id": "wevQfF78i2TI"
      },
      "execution_count": null,
      "outputs": []
    },
    {
      "cell_type": "code",
      "source": [
        "from sklearn.linear_model import SGDRegressor\n",
        "sgdr = SGDRegressor()\n",
        "sgdr.fit(X_train, y_train)"
      ],
      "metadata": {
        "id": "w2M2i0mIjFNy"
      },
      "execution_count": null,
      "outputs": []
    },
    {
      "cell_type": "code",
      "source": [
        "sgdr.score(X_train, y_train)"
      ],
      "metadata": {
        "id": "AbyIx-4sjsa0"
      },
      "execution_count": null,
      "outputs": []
    },
    {
      "cell_type": "code",
      "source": [
        "from sklearn.metrics import mean_squared_error\n",
        "y_pred = sgdr.predict(X_test)\n",
        "mse = mean_squared_error(y_test, y_pred)\n",
        "\n",
        "print(\"Mean Squared Error:\",mse)"
      ],
      "metadata": {
        "id": "UWqfp8vCjvtX"
      },
      "execution_count": null,
      "outputs": []
    },
    {
      "cell_type": "code",
      "source": [
        "import joblib\n",
        "joblib.dump(scalar, 'sgdr_scalar.pkl')\n",
        "joblib.dump(sgdr, 'sgdr_model.pkl')"
      ],
      "metadata": {
        "id": "yDYTxrShkB1F"
      },
      "execution_count": null,
      "outputs": []
    },
    {
      "cell_type": "code",
      "source": [
        "from sklearn.preprocessing import StandardScaler\n",
        "from sklearn.linear_model import SGDRegressor\n",
        "import pandas as pd\n",
        "import joblib\n",
        "\n",
        "loaded_scalar = joblib.load('sgdr_scalar.pkl')\n",
        "loaded_sgdr = joblib.load('sgdr_model.pkl')\n",
        "\n",
        "data = {\n",
        "    'MedInc': [8.0],\n",
        "    'HouseAge': [30.0],\n",
        "    'AveRooms': [6.0],\n",
        "    'AveBedrms': [2.0],\n",
        "    'Population': [1000],\n",
        "    'AveOccup': [3.0],\n",
        "    'Latitude': [37.0],\n",
        "    'Longitude': [-122.2]\n",
        "}\n",
        "\n",
        "virtual_df = pd.DataFrame(data, columns=data.keys())\n",
        "virtual_df = loaded_scalar.transform(virtual_df)\n",
        "pred = loaded_sgdr.predict(virtual_df)\n",
        "\n",
        "print(pred)"
      ],
      "metadata": {
        "id": "opxjg6WEkLcr"
      },
      "execution_count": null,
      "outputs": []
    }
  ]
}