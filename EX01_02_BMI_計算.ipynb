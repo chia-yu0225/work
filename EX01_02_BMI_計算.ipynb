{
  "nbformat": 4,
  "nbformat_minor": 0,
  "metadata": {
    "colab": {
      "provenance": [],
      "authorship_tag": "ABX9TyMIO1mbfcsKkbws3AbSEA2b",
      "include_colab_link": true
    },
    "kernelspec": {
      "name": "python3",
      "display_name": "Python 3"
    },
    "language_info": {
      "name": "python"
    }
  },
  "cells": [
    {
      "cell_type": "markdown",
      "metadata": {
        "id": "view-in-github",
        "colab_type": "text"
      },
      "source": [
        "<a href=\"https://colab.research.google.com/github/chia-yu0225/work/blob/main/EX01_02_BMI_%E8%A8%88%E7%AE%97.ipynb\" target=\"_parent\"><img src=\"https://colab.research.google.com/assets/colab-badge.svg\" alt=\"Open In Colab\"/></a>"
      ]
    },
    {
      "cell_type": "code",
      "execution_count": 1,
      "metadata": {
        "colab": {
          "base_uri": "https://localhost:8080/"
        },
        "id": "sefZxkfuG20l",
        "outputId": "3e04e233-07ab-4fd9-b18e-8fdf3a827bde"
      },
      "outputs": [
        {
          "output_type": "stream",
          "name": "stdout",
          "text": [
            "height(cm);100\n",
            "weight(kg);50\n",
            "BMI; 50.0\n"
          ]
        }
      ],
      "source": [
        "#BMI\n",
        "x = float(input('height(cm);'))\n",
        "y = float(input('weight(kg);'))\n",
        "bmi = y / (x/100)**2\n",
        "print ('BMI;',round(bmi,1))"
      ]
    }
  ]
}