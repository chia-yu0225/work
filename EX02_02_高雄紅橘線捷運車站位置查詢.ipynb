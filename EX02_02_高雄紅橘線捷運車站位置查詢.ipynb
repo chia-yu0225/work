{
  "nbformat": 4,
  "nbformat_minor": 0,
  "metadata": {
    "colab": {
      "provenance": [],
      "authorship_tag": "ABX9TyOxbL1gCafIcY3ecjxdSuD6",
      "include_colab_link": true
    },
    "kernelspec": {
      "name": "python3",
      "display_name": "Python 3"
    },
    "language_info": {
      "name": "python"
    }
  },
  "cells": [
    {
      "cell_type": "markdown",
      "metadata": {
        "id": "view-in-github",
        "colab_type": "text"
      },
      "source": [
        "<a href=\"https://colab.research.google.com/github/chia-yu0225/work/blob/main/EX02_02_%E9%AB%98%E9%9B%84%E7%B4%85%E6%A9%98%E7%B7%9A%E6%8D%B7%E9%81%8B%E8%BB%8A%E7%AB%99%E4%BD%8D%E7%BD%AE%E6%9F%A5%E8%A9%A2.ipynb\" target=\"_parent\"><img src=\"https://colab.research.google.com/assets/colab-badge.svg\" alt=\"Open In Colab\"/></a>"
      ]
    },
    {
      "cell_type": "code",
      "execution_count": null,
      "metadata": {
        "id": "hMz8pS8-Jz2H"
      },
      "outputs": [],
      "source": [
        "import requests\n",
        "# 發送 GET 請求\n",
        "uri=\"https://data.kcg.gov.tw/dataset/2629db6d-98ec-4b24-8ab1-5dc34d998460/resource/662f822c-632b-4cb3-80f6-b5ac053d210b/download/11311.json\"\n",
        "response = requests.get(uri)\n",
        "response.status_code"
      ]
    },
    {
      "cell_type": "code",
      "source": [
        "stats = response.json()\n",
        "stats =[0]"
      ],
      "metadata": {
        "id": "ppjLzL1mKg9r"
      },
      "execution_count": 14,
      "outputs": []
    },
    {
      "cell_type": "code",
      "source": [
        "import csv\n",
        "\n",
        "wtr = []\n",
        "wtr.append(list(stats[0].keys()))\n",
        "\n",
        "for it in stats:\n",
        "  wtr.append(list(it.values()))\n",
        "with open(\"output.csv\", \"w\", newline=\"\") as file:\n",
        "    writer = csv.writer(file)\n",
        "    writer.writerows(wtr)"
      ],
      "metadata": {
        "id": "CTPwFHAfLAoj"
      },
      "execution_count": null,
      "outputs": []
    },
    {
      "cell_type": "code",
      "source": [
        "import csv\n",
        "\n",
        "with open(\"stats.csv\", \"r\") as file:\n",
        "  reader = csv.reader(file)\n",
        "  stats = list(reader)\n",
        "print(stats)"
      ],
      "metadata": {
        "id": "gm5fSjRVLdQ8"
      },
      "execution_count": null,
      "outputs": []
    },
    {
      "cell_type": "code",
      "source": [
        "!pip install gradio -q"
      ],
      "metadata": {
        "collapsed": true,
        "id": "yiQEgBRBOfFQ"
      },
      "execution_count": 7,
      "outputs": []
    },
    {
      "cell_type": "code",
      "source": [
        "import gradio as gr\n",
        "\n",
        "def stat_info(id):\n",
        "  info = ''\n",
        "  for it in stats:\n",
        "    if it[0] == id:\n",
        "      info = f'車站編號：{it[1]}\\n中文名稱：{it[2]}\\n英文名稱：{it[3]}'\n",
        "      html = get_html(it[4], it[5])\n",
        "  return info, html\n",
        "\n",
        "def get_html(lat, lon):\n",
        "  lat = float(lat)\n",
        "  lon = float(lon)\n",
        "  html = f'''\n",
        "    <div style=\"width: 100%; height: 400px;\">\n",
        "    <iframe\n",
        "        width=\"100%\"\n",
        "        height=\"100%\"\n",
        "        frameborder=\"0\"\n",
        "        scrolling=\"no\"\n",
        "        marginheight=\"0\"\n",
        "        marginwidth=\"0\"\n",
        "        src=\"https://www.openstreetmap.org/export/embed.html?bbox={lon-0.01}%2C{lat-0.01}%2C{lon+0.01}%2C{lat+0.01}&layer=mapnik&marker={lat}%2C{lon}\">\n",
        "    </iframe>\n",
        "    </div>\n",
        "    '''\n",
        "\n",
        "    return html\n",
        "\n",
        "\n",
        "menu = []\n",
        "\n",
        "for it in stats[1:]:\n",
        "  menu.append(it[1])\n",
        "\n",
        "gr.Interface(\n",
        "    fn = stat_info,\n",
        "    inputs = gr.Dropdown(choices = menu, label=\"車站編號：\"),\n",
        "    outputs = [gr.Textbox(label = \"車站資訊:\") , gr.HTML(label='地圖')]\n",
        ").launch()\n",
        "\n"
      ],
      "metadata": {
        "id": "EHVkSKENMTsE"
      },
      "execution_count": null,
      "outputs": []
    }
  ]
}