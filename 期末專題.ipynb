{
  "nbformat": 4,
  "nbformat_minor": 0,
  "metadata": {
    "colab": {
      "provenance": [],
      "authorship_tag": "ABX9TyOCDOLjRgAdhnlV4jBJIse2",
      "include_colab_link": true
    },
    "kernelspec": {
      "name": "python3",
      "display_name": "Python 3"
    },
    "language_info": {
      "name": "python"
    }
  },
  "cells": [
    {
      "cell_type": "markdown",
      "metadata": {
        "id": "view-in-github",
        "colab_type": "text"
      },
      "source": [
        "<a href=\"https://colab.research.google.com/github/chia-yu0225/work/blob/main/%E6%9C%9F%E6%9C%AB%E5%B0%88%E9%A1%8C.ipynb\" target=\"_parent\"><img src=\"https://colab.research.google.com/assets/colab-badge.svg\" alt=\"Open In Colab\"/></a>"
      ]
    },
    {
      "cell_type": "markdown",
      "source": [
        "# 猜數字小遊戲"
      ],
      "metadata": {
        "id": "0Uhm9J6xFI6_"
      }
    },
    {
      "cell_type": "markdown",
      "source": [
        "本專題透過 LINE Bot 與 Python 的整合，實作一個互動式「猜數字」遊戲。使用者只要傳訊息給 LINE 機器人，就可以開始遊戲、猜數字、獲得提示，並最終猜中答案。整個程式在 Google Colab 上執行，結合了雲端運算與即時互動，適合用來展示聊天機器人與 Web 技術的結合應用。"
      ],
      "metadata": {
        "id": "iNkOP9GfGFIH"
      }
    },
    {
      "cell_type": "markdown",
      "source": [
        "# 補充"
      ],
      "metadata": {
        "id": "JT8-woj3GhbY"
      }
    },
    {
      "cell_type": "markdown",
      "source": [
        "| 類別            | 技術內容                | 說明                                                 |\n",
        "| ------------- | ------------------- | -------------------------------------------------- |\n",
        "| 使用者介面     | LINE Messaging API  | 使用者透過 LINE 傳送訊息互動                                  |\n",
        "| 伺服器應用     | Flask + ngrok       | 利用 Flask 建立 Web 伺服器，透過 ngrok 將本地伺服器公開到網路上供 LINE 訪問 |\n",
        "| 雲端開發      | Google Colab        | 全程在 Google Colab 上開發與執行，不需本地安裝環境                   |\n",
        "| 使用者狀態管理   | Python 字典           | 以 user ID 作為 key，儲存每個使用者的答案、猜測次數與遊戲狀態              |\n",
        "| 隨機性邏輯     | random 模組           | 使用 `random.randint(1, 100)` 生成隨機答案                 |\n",
        "| 條件判斷與文字回應 | if/elif/else        | 分析使用者輸入並給出不同的回應（如「太小」、「太大」、「猜對了」等）                 |\n",
        "| 資安與部署     | 使用 `userdata.get()` | 金鑰與敏感資訊不寫死在程式碼中，提升安全性                              |\n"
      ],
      "metadata": {
        "id": "U6EGVTwwGmGK"
      }
    },
    {
      "cell_type": "markdown",
      "source": [
        "# 遊戲流程"
      ],
      "metadata": {
        "id": "lyWkpKZgG4U-"
      }
    },
    {
      "cell_type": "markdown",
      "source": [
        "使用者輸入「開始遊戲』，系統隨機選出一個 1～100 的整數，並初始化猜測次數為 0，使用者開始猜數字，每輸入一個數字，系統會判斷是否大於、小於或等於答案，並記錄猜測次數，猜中答案\n",
        "，顯示成功訊息，並告知共猜了幾次\n",
        "，重新開始\n",
        "，輸入「開始遊戲」可以重新開始新的一輪。"
      ],
      "metadata": {
        "id": "XVm48ybOG7D7"
      }
    },
    {
      "cell_type": "markdown",
      "source": [
        "# 安全性設定"
      ],
      "metadata": {
        "id": "JdtKHDlqGBl9"
      }
    },
    {
      "cell_type": "code",
      "execution_count": null,
      "metadata": {
        "id": "cP2P1tDFENYY"
      },
      "outputs": [],
      "source": [
        "from google.colab import userdata\n",
        "userdata.set('LINE_CHANNEL_SECRET', '89bcaecc9df0b2e66a7447dd3b919a7c')\n",
        "userdata.set('LINE_CHANNEL_ACCESS_TOKEN', '在這裡填入你的 Access Token')\n",
        "userdata.set('ngrok_token', '在這裡填入你的 ngrok authtoken')"
      ]
    },
    {
      "cell_type": "markdown",
      "source": [
        "# 安裝必要套件"
      ],
      "metadata": {
        "id": "hHMSplDqFh2-"
      }
    },
    {
      "cell_type": "code",
      "source": [
        "!pip install flask-ngrok line-bot-sdk --quiet"
      ],
      "metadata": {
        "id": "-nLCiVOOEWv5"
      },
      "execution_count": null,
      "outputs": []
    },
    {
      "cell_type": "markdown",
      "source": [
        "# 程式主體"
      ],
      "metadata": {
        "id": "DA5uqdcEFoRg"
      }
    },
    {
      "cell_type": "code",
      "source": [
        "from google.colab import userdata\n",
        "from pyngrok import ngrok\n",
        "from flask_ngrok import run_with_ngrok\n",
        "from flask import Flask, request, abort\n",
        "from linebot.v3 import WebhookHandler\n",
        "from linebot.v3.exceptions import InvalidSignatureError\n",
        "from linebot.v3.messaging import (\n",
        "    Configuration, ApiClient, MessagingApi,\n",
        "    ReplyMessageRequest, TextMessage,\n",
        ")\n",
        "from linebot.v3.webhooks import MessageEvent, TextMessageContent\n",
        "import random\n",
        "\n",
        "app = Flask(__name__)\n",
        "run_with_ngrok(app)\n",
        "ngrok.set_auth_token(userdata.get('ngrok_token'))\n",
        "\n",
        "configuration = Configuration(access_token=userdata.get('LINE_CHANNEL_ACCESS_TOKEN'))\n",
        "handler = WebhookHandler(userdata.get('LINE_CHANNEL_SECRET'))\n",
        "\n",
        "\n",
        "game_states = {}\n",
        "\n",
        "@app.route(\"/callback\", methods=['POST'])\n",
        "def callback():\n",
        "    signature = request.headers['X-Line-Signature']\n",
        "    body = request.get_data(as_text=True)\n",
        "\n",
        "    try:\n",
        "        handler.handle(body, signature)\n",
        "    except InvalidSignatureError:\n",
        "        abort(400)\n",
        "\n",
        "    return 'OK'\n",
        "\n",
        "@handler.add(MessageEvent, message=TextMessageContent)\n",
        "def handle_message(event):\n",
        "    user_id = event.source.user_id\n",
        "    user_msg = event.message.text.strip()\n",
        "\n",
        "    with ApiClient(configuration) as api_client:\n",
        "        line_bot_api = MessagingApi(api_client)\n",
        "\n",
        "\n",
        "        if user_msg == \"開始遊戲\":\n",
        "            answer = random.randint(1, 100)\n",
        "            game_states[user_id] = {\n",
        "                \"answer\": answer,\n",
        "                \"active\": True,\n",
        "                \"attempts\": 0\n",
        "            }\n",
        "            reply = \"🎲 猜數字遊戲開始！請輸入 1 到 100 的數字。\"\n",
        "\n",
        "        elif user_id not in game_states or not game_states[user_id][\"active\"]:\n",
        "            reply = \"請先輸入『開始遊戲』來開始新一輪猜數字！\"\n",
        "\n",
        "        else:\n",
        "            try:\n",
        "                guess = int(user_msg)\n",
        "                state = game_states[user_id]\n",
        "                state[\"attempts\"] += 1\n",
        "\n",
        "                if guess < state[\"answer\"]:\n",
        "                    reply = \"太小了，再試一次！\"\n",
        "                elif guess > state[\"answer\"]:\n",
        "                    reply = \"太大了，再試一次！\"\n",
        "                else:\n",
        "                    reply = (\n",
        "                        f\"🎉 恭喜你猜中了！答案是 {state['answer']}。\\n\"\n",
        "                        f\"你總共猜了 {state['attempts']} 次！\\n\"\n",
        "                        \"輸入『開始遊戲』可以再玩一次。\"\n",
        "                    )\n",
        "                    state[\"active\"] = False\n",
        "\n",
        "            except ValueError:\n",
        "                reply = \"請輸入有效的整數數字！\"\n",
        "\n",
        "\n",
        "        line_bot_api.reply_message_with_http_info(\n",
        "            ReplyMessageRequest(\n",
        "                reply_token=event.reply_token,\n",
        "                messages=[TextMessage(text=reply)]\n",
        "            )\n",
        "        )\n",
        "\n",
        "\n",
        "app.run()\n"
      ],
      "metadata": {
        "id": "TbncCQdBFvcy"
      },
      "execution_count": null,
      "outputs": []
    },
    {
      "cell_type": "markdown",
      "source": [
        "# 展望"
      ],
      "metadata": {
        "id": "sKyzJl0fHPX0"
      }
    },
    {
      "cell_type": "markdown",
      "source": [
        "猜錯次數排行榜（用 Firebase 或簡單 CSV 儲存）\n",
        "\n",
        "難度調整（例如猜 1～1000）\n",
        "\n",
        "加入「放棄遊戲」指令\n",
        "\n",
        "自動記錄遊戲結果並回顧歷史成績"
      ],
      "metadata": {
        "id": "TnUh2VeqHSFd"
      }
    }
  ]
}