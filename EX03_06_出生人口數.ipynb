{
  "nbformat": 4,
  "nbformat_minor": 0,
  "metadata": {
    "colab": {
      "provenance": [],
      "authorship_tag": "ABX9TyM5uBsYHadpjdsdSiy28YYH",
      "include_colab_link": true
    },
    "kernelspec": {
      "name": "python3",
      "display_name": "Python 3"
    },
    "language_info": {
      "name": "python"
    }
  },
  "cells": [
    {
      "cell_type": "markdown",
      "metadata": {
        "id": "view-in-github",
        "colab_type": "text"
      },
      "source": [
        "<a href=\"https://colab.research.google.com/github/chia-yu0225/work/blob/main/EX03_06_%E5%87%BA%E7%94%9F%E4%BA%BA%E5%8F%A3%E6%95%B8.ipynb\" target=\"_parent\"><img src=\"https://colab.research.google.com/assets/colab-badge.svg\" alt=\"Open In Colab\"/></a>"
      ]
    },
    {
      "cell_type": "code",
      "execution_count": null,
      "metadata": {
        "id": "91aR0dxpVrJT"
      },
      "outputs": [],
      "source": [
        "!wget -O births.xls https://raw.githubusercontent.com/imchihchao/aop113b/main/materials/03-births.xls"
      ]
    },
    {
      "cell_type": "code",
      "source": [
        "# 下載台北黑體字型\n",
        "!wget -O taipei_sans_tc_beta.ttf https://drive.google.com/uc?id=1eGAsTN1HBpJAkeVM57_C7ccp7hbgSz3_&export=download\n",
        "import matplotlib\n",
        "import matplotlib.pyplot as plt\n",
        "# 新增字體\n",
        "matplotlib.font_manager.fontManager.addfont('taipei_sans_tc_beta.ttf')\n",
        "# 設定中文字型及負號正確顯示\n",
        "plt.rcParams['font.sans-serif'] = 'Taipei Sans TC Beta'\n",
        "plt.rcParams[\"axes.unicode_minus\"] = False"
      ],
      "metadata": {
        "id": "3qmJomy_f93Q"
      },
      "execution_count": null,
      "outputs": []
    },
    {
      "cell_type": "code",
      "source": [
        "import pandas as pd\n",
        "\n",
        "url = 'https://raw.githubusercontent.com/imchihchao/aop113b/main/materials/03-births.xls'\n",
        "excel_data = pd.ExcelFile(url)\n",
        "\n",
        "area = ['新北市','臺北市','桃園市','臺中市','臺南市','高雄市']\n",
        "year = [str(i) for i in range(112, 98, -1)]\n",
        "\n",
        "df = pd.DataFrame()\n",
        "for sheet_name in excel_data.sheet_names:\n",
        "    if sheet_name in year:\n",
        "        df_yr = pd.read_excel(excel_data, sheet_name=sheet_name, header=4)\n",
        "        df_yr = df_yr.iloc[:,0:2]\n",
        "        df_yr.iloc[:, 0] = df_yr.iloc[:, 0].str.replace(\" \", \"\")\n",
        "        df_yr.columns = ['county','births']\n",
        "        df_yr = df_yr[df_yr['county'].isin(area)]\n",
        "        df_yr.loc[:,'year'] = f'{sheet_name:>03}'\n",
        "        df = pd.concat([df,df_yr], ignore_index=True)\n",
        "df"
      ],
      "metadata": {
        "id": "YUp54SyKa7zA"
      },
      "execution_count": null,
      "outputs": []
    },
    {
      "cell_type": "code",
      "source": [
        "pvt1 = pd.pivot_table(df, index='year', values = 'births',aggfunc = 'mean')\n",
        "pvt1"
      ],
      "metadata": {
        "id": "uuuL5H8pbCIP"
      },
      "execution_count": null,
      "outputs": []
    },
    {
      "cell_type": "code",
      "source": [
        "import seaborn as sns\n",
        "sns.lineplot(data=pvt1)"
      ],
      "metadata": {
        "id": "qvnpj6rreMM4"
      },
      "execution_count": null,
      "outputs": []
    },
    {
      "cell_type": "code",
      "source": [
        "pvt2 = pd.pivot_table(df, index = 'year', columns = 'counnty', values = 'births')\n",
        "\n",
        "pvt2"
      ],
      "metadata": {
        "id": "8cpKUFTXekyX"
      },
      "execution_count": null,
      "outputs": []
    },
    {
      "cell_type": "code",
      "source": [
        "sns.lineplot(data=pvt2)"
      ],
      "metadata": {
        "id": "FeOjV0k0fw-y"
      },
      "execution_count": null,
      "outputs": []
    },
    {
      "cell_type": "code",
      "source": [
        "pvt3 = pd.pivot_table(df, index = 'county', values = 'births', aggfunc = ['mean','max','min'])\n",
        "pvt3"
      ],
      "metadata": {
        "id": "2kUvRY1kgRhH"
      },
      "execution_count": null,
      "outputs": []
    },
    {
      "cell_type": "code",
      "source": [
        "sns.barplot(data=pvt3, x='county', y=('mean','births',))"
      ],
      "metadata": {
        "id": "PrNnPmmZgjV_"
      },
      "execution_count": null,
      "outputs": []
    },
    {
      "cell_type": "code",
      "source": [
        "sns.boxplot(data=df, x='county', y='births',hue='county')"
      ],
      "metadata": {
        "id": "Yj2DoEvAgn2t"
      },
      "execution_count": null,
      "outputs": []
    },
    {
      "cell_type": "code",
      "source": [],
      "metadata": {
        "id": "eQcm-5NGhe3z"
      },
      "execution_count": null,
      "outputs": []
    }
  ]
}