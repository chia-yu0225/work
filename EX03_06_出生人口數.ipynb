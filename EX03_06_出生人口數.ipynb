{
  "nbformat": 4,
  "nbformat_minor": 0,
  "metadata": {
    "colab": {
      "provenance": [],
      "authorship_tag": "ABX9TyOaR9MBcwxYfTILPf5DcSom",
      "include_colab_link": true
    },
    "kernelspec": {
      "name": "python3",
      "display_name": "Python 3"
    },
    "language_info": {
      "name": "python"
    }
  },
  "cells": [
    {
      "cell_type": "markdown",
      "metadata": {
        "id": "view-in-github",
        "colab_type": "text"
      },
      "source": [
        "<a href=\"https://colab.research.google.com/github/chia-yu0225/work/blob/main/EX03_06_%E5%87%BA%E7%94%9F%E4%BA%BA%E5%8F%A3%E6%95%B8.ipynb\" target=\"_parent\"><img src=\"https://colab.research.google.com/assets/colab-badge.svg\" alt=\"Open In Colab\"/></a>"
      ]
    },
    {
      "cell_type": "code",
      "execution_count": null,
      "metadata": {
        "id": "91aR0dxpVrJT"
      },
      "outputs": [],
      "source": [
        "!wget -O births.xls https://raw.githubusercontent.com/imchihchao/aop113b/main/materials/03-births.xls"
      ]
    },
    {
      "cell_type": "code",
      "source": [
        "import pandas as pd\n",
        "\n",
        "url = 'https://raw.githubusercontent.com/imchihchao/aop113b/main/materials/03-births.xls'\n",
        "excel_data = pd.ExcelFile(url)\n",
        "\n",
        "area = ['新北市','臺北市','桃園市','臺中市','臺南市','高雄市']\n",
        "year = [str(i) for i in range(112, 98, -1)] # 從99年開始縣市合併\n",
        "\n",
        "df = pd.DataFrame()\n",
        "for sheet_name in excel_data.sheet_names:\n",
        "    if sheet_name in year:\n",
        "        df_yr = pd.read_excel(excel_data, sheet_name=sheet_name, header=4)\n",
        "        df_yr = df_yr.iloc[:,0:2] # 只留前二欄：縣市及出生人口數\n",
        "        df_yr.iloc[:, 0] = df_yr.iloc[:, 0].str.replace(\" \", \"\") # 去除早期資料中縣市名稱中間有空白\n",
        "        df_yr.columns = ['county','births']\n",
        "        df_yr = df_yr[df_yr['county'].isin(area)] # 篩選只留下六都的資料\n",
        "        df_yr.loc[:,'year'] = f'{sheet_name:>03}' # 補足99年數字為三位數\n",
        "        df = pd.concat([df,df_yr], ignore_index=True)\n",
        "df"
      ],
      "metadata": {
        "id": "YUp54SyKa7zA"
      },
      "execution_count": null,
      "outputs": []
    },
    {
      "cell_type": "code",
      "source": [],
      "metadata": {
        "id": "uuuL5H8pbCIP"
      },
      "execution_count": null,
      "outputs": []
    }
  ]
}