{
  "nbformat": 4,
  "nbformat_minor": 0,
  "metadata": {
    "colab": {
      "provenance": [],
      "authorship_tag": "ABX9TyOcwWwdN6w0VKeFxS6z9D88",
      "include_colab_link": true
    },
    "kernelspec": {
      "name": "python3",
      "display_name": "Python 3"
    },
    "language_info": {
      "name": "python"
    }
  },
  "cells": [
    {
      "cell_type": "markdown",
      "metadata": {
        "id": "view-in-github",
        "colab_type": "text"
      },
      "source": [
        "<a href=\"https://colab.research.google.com/github/chia-yu0225/work/blob/main/EX02_07_KKDay.ipynb\" target=\"_parent\"><img src=\"https://colab.research.google.com/assets/colab-badge.svg\" alt=\"Open In Colab\"/></a>"
      ]
    },
    {
      "cell_type": "code",
      "execution_count": 1,
      "metadata": {
        "id": "ucdf4eX-4-Qp",
        "colab": {
          "base_uri": "https://localhost:8080/"
        },
        "outputId": "04a2fc70-3122-4604-afa5-e1b5481778bf"
      },
      "outputs": [
        {
          "output_type": "execute_result",
          "data": {
            "text/plain": [
              "<title>最熱門 東京 住宿 - 2025 更新 - KKday</title>"
            ]
          },
          "metadata": {},
          "execution_count": 1
        }
      ],
      "source": [
        " import requests\n",
        " from bs4 import BeautifulSoup\n",
        " url = 'https://www.kkday.com/zh-tw/category/jp-tokyo/accommodation'\n",
        " headers = {'User-Agent':'Mozilla/5.0 (Windows NT 10.0; Win64; x64) AppleWebKit/537.36 (KHTML, like Gecko) Chrome/111.0.0.0 Safari/537.36'}\n",
        " response = requests.get(url, headers=headers)\n",
        " soup = BeautifulSoup(response.text, 'lxml')\n",
        " soup.title\n"
      ]
    },
    {
      "cell_type": "code",
      "source": [
        "soup.find('h3',class = 'product-card title').text"
      ],
      "metadata": {
        "id": "lUiMXa9qFKHl"
      },
      "execution_count": null,
      "outputs": []
    },
    {
      "cell_type": "code",
      "source": [
        "import requests\n",
        "url = 'https://www.kkday.com/zh-tw/category/ajax_get_top_products?productCategory=CATEGORY_078&destination=D-JP-3261'\n",
        "headers = {'User-Agent':'Mozilla/5.0 (Windows NT 10.0; Win64; x64) AppleWebKit/537.36 (KHTML, like Gecko) Chrome/111.0.0.0 Safari/537.36'}\n",
        "response = requests.get(url, headers=headers)\n",
        "hotels = response.json()"
      ],
      "metadata": {
        "id": "3KwS_PuZFvlq"
      },
      "execution_count": null,
      "outputs": []
    },
    {
      "cell_type": "code",
      "source": [
        "hotels['data'][0]"
      ],
      "metadata": {
        "id": "7Fqhk1YsFhk4"
      },
      "execution_count": null,
      "outputs": []
    },
    {
      "cell_type": "code",
      "source": [
        "from IPython.display import display, display\n",
        "\n",
        "for hotel in hotels['data']\n",
        "    print(hotel['name'],hotel['rating_star'],hotel['sale_price'])\n",
        "    print(hotel['introduction'])\n",
        "    display(Image(url=hotel['img_url', width=300]))\n",
        "    print('_'*3)\n",
        "    print()"
      ],
      "metadata": {
        "id": "MCKipBC4C0P5"
      },
      "execution_count": null,
      "outputs": []
    }
  ]
}