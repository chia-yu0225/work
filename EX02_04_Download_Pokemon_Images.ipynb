{
  "nbformat": 4,
  "nbformat_minor": 0,
  "metadata": {
    "colab": {
      "provenance": [],
      "authorship_tag": "ABX9TyNCHMhwOxGT8+Z6HpIKJ7mY",
      "include_colab_link": true
    },
    "kernelspec": {
      "name": "python3",
      "display_name": "Python 3"
    },
    "language_info": {
      "name": "python"
    }
  },
  "cells": [
    {
      "cell_type": "markdown",
      "metadata": {
        "id": "view-in-github",
        "colab_type": "text"
      },
      "source": [
        "<a href=\"https://colab.research.google.com/github/chia-yu0225/work/blob/main/EX02_04_Download_Pokemon_Images.ipynb\" target=\"_parent\"><img src=\"https://colab.research.google.com/assets/colab-badge.svg\" alt=\"Open In Colab\"/></a>"
      ]
    },
    {
      "cell_type": "code",
      "execution_count": 2,
      "metadata": {
        "id": "bkMpXF79Dpt6"
      },
      "outputs": [],
      "source": [
        "import requests\n",
        "\n",
        "url = 'https://tw.portal-pokemon.com/play/pokedex/0001'\n",
        "response = requests.get(url)\n",
        "\n"
      ]
    },
    {
      "cell_type": "code",
      "source": [
        "from bs4 import BeautifulSoup\n",
        "\n",
        "\n",
        "\n",
        "soup = BeautifulSoup(response.text, 'lxml')\n",
        "soup.find('img', class_='pokemon-img__front').get('src')\n"
      ],
      "metadata": {
        "colab": {
          "base_uri": "https://localhost:8080/",
          "height": 35
        },
        "id": "S-ouM0xtLawi",
        "outputId": "f722d8c6-d64c-4d9a-9167-4222e8d88c0e"
      },
      "execution_count": 3,
      "outputs": [
        {
          "output_type": "execute_result",
          "data": {
            "text/plain": [
              "'/play/resources/pokedex/img/pm/cf47f9fac4ed3037ff2a8ea83204e32aff8fb5f3.png'"
            ],
            "application/vnd.google.colaboratory.intrinsic+json": {
              "type": "string"
            }
          },
          "metadata": {},
          "execution_count": 3
        }
      ]
    },
    {
      "cell_type": "code",
      "source": [
        "img_url='https://tw.portal-pokemon.com'+ soup.find('img', class_='pokemon-img__front').get('src')\n",
        "\n",
        "\n",
        "img = requests.get(img_url)\n",
        "with open('0001.png', 'wb') as f:\n",
        "    f.write(img.content)"
      ],
      "metadata": {
        "id": "Af7tPmUyWz5U"
      },
      "execution_count": 5,
      "outputs": []
    },
    {
      "cell_type": "code",
      "source": [
        "import requests\n",
        "from bs4 import BeautifulSoup\n",
        "\n",
        "for i in range(1, 21):\n",
        "    id = f'{i:04}'\n",
        "    url = f'https://tw.portal-pokemon.com/play/pokedex/{id}'\n",
        "    response = requests.get(url)\n",
        "    soup = BeautifulSoup(response.text, 'lxml')\n",
        "    img_src = soup.find('img', class_='pokemon-img__front').get('src')\n",
        "    img_url = 'https://tw.portal-pokemon.com' + img_src\n",
        "    img = requests.get(img_url)\n",
        "    with open(f'/content/poke/{id}.png', 'wb') as f:\n",
        "        f.write(img.content)\n"
      ],
      "metadata": {
        "id": "75CyMqWLX3OW"
      },
      "execution_count": null,
      "outputs": []
    }
  ]
}