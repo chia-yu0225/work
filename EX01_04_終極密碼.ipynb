{
  "nbformat": 4,
  "nbformat_minor": 0,
  "metadata": {
    "colab": {
      "provenance": [],
      "authorship_tag": "ABX9TyNQ2zvarEWzVUMTVOP9Ks99",
      "include_colab_link": true
    },
    "kernelspec": {
      "name": "python3",
      "display_name": "Python 3"
    },
    "language_info": {
      "name": "python"
    }
  },
  "cells": [
    {
      "cell_type": "markdown",
      "metadata": {
        "id": "view-in-github",
        "colab_type": "text"
      },
      "source": [
        "<a href=\"https://colab.research.google.com/github/chia-yu0225/work/blob/main/EX01_04_%E7%B5%82%E6%A5%B5%E5%AF%86%E7%A2%BC.ipynb\" target=\"_parent\"><img src=\"https://colab.research.google.com/assets/colab-badge.svg\" alt=\"Open In Colab\"/></a>"
      ]
    },
    {
      "cell_type": "code",
      "execution_count": 1,
      "metadata": {
        "colab": {
          "base_uri": "https://localhost:8080/"
        },
        "id": "RS45U0-5coJ3",
        "outputId": "30329659-4113-4ce0-82f2-99b2d893a012"
      },
      "outputs": [
        {
          "output_type": "execute_result",
          "data": {
            "text/plain": [
              "24"
            ]
          },
          "metadata": {},
          "execution_count": 1
        }
      ],
      "source": [
        "import random\n",
        "bomb = random.randint(1,99)\n",
        "lf = 0\n",
        "rt = 100\n",
        "\n",
        "while True:\n",
        "    print(lf,'-',rt)\n",
        "    gu = int(input('guess:'))\n",
        "    if gu <= lf or gu >= rt:\n",
        "      print('超過範圍')\n",
        "    elif gu < bomb:\n",
        "      lf = gu\n",
        "    elif gu > bomb:\n",
        "      rt = gu\n",
        "    else:\n",
        "      print('猜中')\n",
        "      break\n"
      ]
    }
  ]
}