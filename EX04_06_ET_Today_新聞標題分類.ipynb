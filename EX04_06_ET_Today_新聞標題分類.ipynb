{
  "nbformat": 4,
  "nbformat_minor": 0,
  "metadata": {
    "colab": {
      "provenance": [],
      "authorship_tag": "ABX9TyN8plFEVhkTErRZiMfwczJ9",
      "include_colab_link": true
    },
    "kernelspec": {
      "name": "python3",
      "display_name": "Python 3"
    },
    "language_info": {
      "name": "python"
    }
  },
  "cells": [
    {
      "cell_type": "markdown",
      "metadata": {
        "id": "view-in-github",
        "colab_type": "text"
      },
      "source": [
        "<a href=\"https://colab.research.google.com/github/chia-yu0225/work/blob/main/EX04_06_ET_Today_%E6%96%B0%E8%81%9E%E6%A8%99%E9%A1%8C%E5%88%86%E9%A1%9E.ipynb\" target=\"_parent\"><img src=\"https://colab.research.google.com/assets/colab-badge.svg\" alt=\"Open In Colab\"/></a>"
      ]
    },
    {
      "cell_type": "code",
      "execution_count": null,
      "metadata": {
        "id": "h3xngvqYN7VC"
      },
      "outputs": [],
      "source": [
        "from sklearn.feature_extraction.text import CountVectorizer\n",
        "texts = [\"I love programming.\",\"Programming is fun.\"]\n",
        "vectorizer =  CountVectorizer()\n",
        "X = vectorizer.fit_tramsform(texts)"
      ]
    },
    {
      "cell_type": "code",
      "source": [
        "print(vectorizer.get_feature_names_out())\n",
        "print(X.toarray())"
      ],
      "metadata": {
        "id": "tncdtfblu-nY"
      },
      "execution_count": null,
      "outputs": []
    },
    {
      "cell_type": "code",
      "source": [
        "from sklearn.feature_extraction.text import TfidVectorizer\n",
        "texts = [\"I love programming.\",\"Programming is fun.\"]\n",
        "vectorizer = TfidVectorizer()\n",
        "X = vectorizer.fit_transform(texts)"
      ],
      "metadata": {
        "id": "tqMFTsa2vOKw"
      },
      "execution_count": null,
      "outputs": []
    },
    {
      "cell_type": "code",
      "source": [
        "print(vectorizer.get_feature_names_out())\n",
        "print(X.toarray())"
      ],
      "metadata": {
        "id": "qHE_O1Syvdya"
      },
      "execution_count": null,
      "outputs": []
    },
    {
      "cell_type": "code",
      "source": [
        "import jieba\n",
        "list(jieba.cut('太多的巧合就是有緣。'))"
      ],
      "metadata": {
        "id": "sQfinQX-vjTR"
      },
      "execution_count": null,
      "outputs": []
    },
    {
      "cell_type": "code",
      "source": [
        "!wget -O dict.txt https://raw.githubusercontent.com/imchihchao/aop113b/main/materials/04-dict.txt"
      ],
      "metadata": {
        "id": "eTSZRx8mvuy7"
      },
      "execution_count": null,
      "outputs": []
    },
    {
      "cell_type": "code",
      "source": [
        "import jieba\n",
        "# 加入繁體中文字典\n",
        "jieba.set_dictionary('dict.txt')"
      ],
      "metadata": {
        "id": "zxw_oVw-v8w2"
      },
      "execution_count": null,
      "outputs": []
    },
    {
      "cell_type": "code",
      "source": [
        "!wget -O stopwords.txt https://raw.githubusercontent.com/imchihchao/aop113b/main/materials/04-stopwords.txt"
      ],
      "metadata": {
        "id": "rzCJ5478wCws"
      },
      "execution_count": null,
      "outputs": []
    },
    {
      "cell_type": "code",
      "source": [
        "import jieba\n",
        "# 載入停用詞表\n",
        "def load_stopwords(filepath):\n",
        "    with open(filepath, 'r', encoding='utf-8') as f:\n",
        "        stopwords = set(line.strip() for line in f if line.strip())\n",
        "    return stopwords\n",
        "# 分詞並過濾停用詞\n",
        "def jieba_cut_with_stopwords(text, stopwords):\n",
        "    words = jieba.cut(text)\n",
        "    return [word for word in words if word not in stopwords and word.strip() != '']\n",
        "# 使用範例\n",
        "stopwords = load_stopwords(\"stopwords.txt\")"
      ],
      "metadata": {
        "id": "Se9aNJOJwOuy"
      },
      "execution_count": null,
      "outputs": []
    },
    {
      "cell_type": "code",
      "source": [
        "filtered_words = jieba_cut_with_stopwords('太多的巧合就是有緣', stopwords)\n",
        "filtered_words"
      ],
      "metadata": {
        "id": "NWp3fObYwYIy"
      },
      "execution_count": null,
      "outputs": []
    },
    {
      "cell_type": "code",
      "source": [
        "import jieba\n",
        "saying = [\"努力也是一種天賦。\",\"太多的巧合就是有緣。\"]\n",
        "saying = [ ' '.join(list(jieba.cut(s))) for s in saying ]\n",
        "saying"
      ],
      "metadata": {
        "id": "IdNjzmy_wpDE"
      },
      "execution_count": null,
      "outputs": []
    },
    {
      "cell_type": "code",
      "source": [
        "import pandas as pd\n",
        "url = 'https://raw.githubusercontent.com/imchihchao/aop113b/main/materials/04-ettoday_news.txt'\n",
        "df = pd.read_csv(url)\n",
        "df.head()\n"
      ],
      "metadata": {
        "id": "tec4qFRHwti1"
      },
      "execution_count": null,
      "outputs": []
    },
    {
      "cell_type": "code",
      "source": [
        "df.info()"
      ],
      "metadata": {
        "id": "ucDoa20QxTDn"
      },
      "execution_count": null,
      "outputs": []
    },
    {
      "cell_type": "code",
      "source": [
        "!wget -0 dict.txt https://raw.githubusercontent.com/imchihchao/aop113b/main/materials/04-dict.txt\n",
        "!wget -0 dict.txt https://raw.githubusercontent.com/imchihchao/aop113b/main/materials/04-stopwords.txt"
      ],
      "metadata": {
        "id": "tDWDC3ukxVCx"
      },
      "execution_count": null,
      "outputs": []
    },
    {
      "cell_type": "code",
      "source": [
        "import jieba\n",
        "jieba.set_dictionary('dict.txt')\n",
        "def load_stopwords(filepath):\n",
        "    with open(filepath, 'r', encoding='utf-8') as f:\n",
        "        stopwords = set(line.strip() for line in f if line.strip())\n",
        "    return stopwords\n",
        "def jieba_cut_with_stopwords(text, stopwords):\n",
        "    words = jieba.cut(text)\n",
        "    return [word for word in words if word not in stopwords and word.strip() != '']\n",
        "stopwords = load_stopwords('stopwords.txt')"
      ],
      "metadata": {
        "id": "fLMw6pBCxxC_"
      },
      "execution_count": null,
      "outputs": []
    },
    {
      "cell_type": "code",
      "source": [
        "df['標題'] = df['標題'].apply(lambda x: ' '.join(jieba_cut_with_stopwords(x, stopwords)))"
      ],
      "metadata": {
        "id": "_3Ipgqu5yH9l"
      },
      "execution_count": null,
      "outputs": []
    },
    {
      "cell_type": "code",
      "source": [
        "df"
      ],
      "metadata": {
        "id": "spN8daK_yQze"
      },
      "execution_count": null,
      "outputs": []
    },
    {
      "cell_type": "code",
      "source": [
        "X, y = df['標題'], ['類別']"
      ],
      "metadata": {
        "id": "HtT6oooByUTJ"
      },
      "execution_count": null,
      "outputs": []
    },
    {
      "cell_type": "code",
      "source": [
        "from sklearn.model_selection import train_test_split\n",
        "X_train, X_test, y_train, y_test = train_test_split(X, y, test_size=0.2, random_state=42)"
      ],
      "metadata": {
        "id": "F0HbD1royin6"
      },
      "execution_count": null,
      "outputs": []
    },
    {
      "cell_type": "code",
      "source": [
        "from sklearn.preprocessing import LabelEncoder\n",
        "label_encoder = LabelEncoder()\n",
        "y_train = label_encoder.fit_transform(y_train)\n",
        "y_test = label_encoder.transform(y_test)"
      ],
      "metadata": {
        "id": "JmB4YUzkycXD"
      },
      "execution_count": null,
      "outputs": []
    },
    {
      "cell_type": "code",
      "source": [
        "from sklearn.feature_extraction.text import TfidfVectorizer\n",
        "vectorizer = TfidfVectorizer()\n",
        "X_train = vectorizer.fit_transform(X_train)\n",
        "X_test = vectorizer.transform(X_test)"
      ],
      "metadata": {
        "id": "fxoonw8yy5DY"
      },
      "execution_count": null,
      "outputs": []
    },
    {
      "cell_type": "code",
      "source": [
        "from sklearn.naive_bayes import MultinomialNB\n",
        "mnb = MultinomialNB(alpha=1.0)\n",
        "mnb.fit(X_train, y_train)"
      ],
      "metadata": {
        "id": "0j5cWOgyzDlG"
      },
      "execution_count": null,
      "outputs": []
    },
    {
      "cell_type": "code",
      "source": [
        "mnb.score(X_train, y_train)"
      ],
      "metadata": {
        "id": "hBe1F9J5zMqd"
      },
      "execution_count": null,
      "outputs": []
    },
    {
      "cell_type": "code",
      "source": [
        "from sklearn.metrics import accuracy_score\n",
        "y_pred = mnb.predict(X_test)\n",
        "accuracy = accuracy_score(y_test, y_pred)\n",
        "print(\"Accuracy:\", accuracy)"
      ],
      "metadata": {
        "id": "-t-inWTQzSLH"
      },
      "execution_count": null,
      "outputs": []
    },
    {
      "cell_type": "code",
      "source": [
        "text = '桌球/開戰？嗆體育署平一面之詞霸凌桌協'\n",
        "s = vectorizer.transform([''.join(jieba_cut_with_stopwords(text, stopwords))])\n",
        "c = mnb.predict(s)[0]\n",
        "category = label_encoder.classes_[c]\n",
        "print(category)\n",
        ""
      ],
      "metadata": {
        "id": "yod-XArUzSD2"
      },
      "execution_count": null,
      "outputs": []
    },
    {
      "cell_type": "code",
      "source": [],
      "metadata": {
        "id": "FH9xAavl0Hdq"
      },
      "execution_count": null,
      "outputs": []
    }
  ]
}