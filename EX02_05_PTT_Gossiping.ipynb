{
  "nbformat": 4,
  "nbformat_minor": 0,
  "metadata": {
    "colab": {
      "provenance": [],
      "authorship_tag": "ABX9TyNhuvWuEIxx4IkTOhTEgBE/",
      "include_colab_link": true
    },
    "kernelspec": {
      "name": "python3",
      "display_name": "Python 3"
    },
    "language_info": {
      "name": "python"
    }
  },
  "cells": [
    {
      "cell_type": "markdown",
      "metadata": {
        "id": "view-in-github",
        "colab_type": "text"
      },
      "source": [
        "<a href=\"https://colab.research.google.com/github/chia-yu0225/work/blob/main/EX02_05_PTT_Gossiping.ipynb\" target=\"_parent\"><img src=\"https://colab.research.google.com/assets/colab-badge.svg\" alt=\"Open In Colab\"/></a>"
      ]
    },
    {
      "cell_type": "code",
      "execution_count": null,
      "metadata": {
        "colab": {
          "base_uri": "https://localhost:8080/"
        },
        "id": "nf63T0Ja-n5e",
        "outputId": "82768965-c843-4c98-9127-5d5fe842475c"
      },
      "outputs": [
        {
          "output_type": "execute_result",
          "data": {
            "text/plain": [
              "200"
            ]
          },
          "metadata": {},
          "execution_count": 2
        }
      ],
      "source": [
        "import requests\n",
        "from bs4 import BeautifulSoup\n",
        "\n",
        "url = 'https://www.ptt.cc/bbs/Movie/index.html'\n",
        "response = requests.get(url)\n",
        "response.status_code"
      ]
    },
    {
      "cell_type": "code",
      "source": [
        "for atcl in soup.find_all('div', class_='r-ent'):\n",
        "    ttle = atcl.find('div', class_='title').a.text\n",
        "    href = 'https://www.ptt.cc/'+ atcl.find('div', class_='title').a.get('href')\n",
        "    date = atcl.find('div', class_='meta').find('div', class_='date').text\n",
        "    print(ttle, href, date)\n"
      ],
      "metadata": {
        "id": "QfrDfLfA_cHl"
      },
      "execution_count": null,
      "outputs": []
    },
    {
      "cell_type": "code",
      "source": [
        "'https://www.ptt.cc'+ soup.find_all('div', class_='btn wide')[1].get('href')\n"
      ],
      "metadata": {
        "id": "4niUarUjCi4z"
      },
      "execution_count": null,
      "outputs": []
    },
    {
      "cell_type": "code",
      "source": [
        "def get_articles(url):\n",
        "    response = requests.get(url)\n",
        "    soup = BeautifulSoup(response.text, 'lxml')\n",
        "    for atcl in soup.find_all('div', class_='r-ent'):\n",
        "        if atcl.find('div', class_='title').a:\n",
        "            ttle = atcl.find('div', class_='title').a.text\n",
        "            href = 'https://www.ptt.cc/'+ atcl.find('div', class_='title').a.get('href')\n",
        "        else:\n",
        "            ttle = atcl.find('div', class_='title').text\n",
        "            href = ''\n",
        "        date = atcl.find('div', class_='meta').find('div', class_='date').text\n",
        "        print(ttle, href, date)\n",
        "    url = 'https://www.ptt.cc'+ soup.find_all('a', class_='btn wide')[1].get('href')\n",
        "    return url\n",
        "\n",
        "url = 'https://www.ptt.cc/bbs/Gossiping/index.html'\n",
        "for i in range(5):\n",
        "    url = get_articles(url)"
      ],
      "metadata": {
        "id": "5UVPluvGJ1fs"
      },
      "execution_count": null,
      "outputs": []
    }
  ]
}