{
  "nbformat": 4,
  "nbformat_minor": 0,
  "metadata": {
    "colab": {
      "provenance": [],
      "authorship_tag": "ABX9TyNQofcXCC7wGO9G/ycU/gDx",
      "include_colab_link": true
    },
    "kernelspec": {
      "name": "python3",
      "display_name": "Python 3"
    },
    "language_info": {
      "name": "python"
    }
  },
  "cells": [
    {
      "cell_type": "markdown",
      "metadata": {
        "id": "view-in-github",
        "colab_type": "text"
      },
      "source": [
        "<a href=\"https://colab.research.google.com/github/chia-yu0225/work/blob/main/EX04_01_%E6%B1%BD%E8%BB%8A%E8%BB%8A%E5%9E%8B%E6%95%B8%E5%80%BC%E8%B3%87%E6%96%99%E8%BD%89%E6%8F%9B.ipynb\" target=\"_parent\"><img src=\"https://colab.research.google.com/assets/colab-badge.svg\" alt=\"Open In Colab\"/></a>"
      ]
    },
    {
      "cell_type": "code",
      "execution_count": null,
      "metadata": {
        "id": "AznvJWUdsv36"
      },
      "outputs": [],
      "source": [
        "!wget -O car_models.csv https://raw.githubusercontent.com/imchihchao/aop113b/main/materials/04-car_models.csv"
      ]
    },
    {
      "cell_type": "code",
      "source": [
        "import panda as pd\n",
        "url = 'https://raw.githubusercontent.com/imchihchao/aop113b/main/materials/04-car_models.csv'\n",
        "df = pd.read_csv(url)\n",
        "df.head()"
      ],
      "metadata": {
        "id": "TfquL4actDMj"
      },
      "execution_count": null,
      "outputs": []
    },
    {
      "cell_type": "code",
      "source": [
        "df_std = df.drop(columns='名稱')\n",
        "df_mms = df.drop(columns='名稱')"
      ],
      "metadata": {
        "id": "buINO8jetdBe"
      },
      "execution_count": null,
      "outputs": []
    },
    {
      "cell_type": "code",
      "source": [
        "from sklearn.preprocessing import StandardScaler\n",
        "std = StandardScaler()\n",
        "df_std[ df.std.columns.to.list() ] = std.fit_transform(df_std[ df.std.columns.to.list() ])\n",
        "df_std"
      ],
      "metadata": {
        "id": "NGBdx1g1c1xX"
      },
      "execution_count": null,
      "outputs": []
    },
    {
      "cell_type": "code",
      "source": [
        "from sklearn.preprocessing import MinMaxScaler\n",
        "mms = MinMaxScaler()\n",
        "df_mms[ df.mms.columns.to.list() ] = mms.fit_transform(df_mms[ df.mms.columns.to.list() ])\n",
        "df_mms"
      ],
      "metadata": {
        "id": "aEUZqUTLd8CO"
      },
      "execution_count": null,
      "outputs": []
    },
    {
      "cell_type": "code",
      "source": [],
      "metadata": {
        "id": "-FsJGTcweH4_"
      },
      "execution_count": null,
      "outputs": []
    }
  ]
}