{
  "nbformat": 4,
  "nbformat_minor": 0,
  "metadata": {
    "colab": {
      "provenance": [],
      "authorship_tag": "ABX9TyPHEOs835ibI9SBhAufNHpv",
      "include_colab_link": true
    },
    "kernelspec": {
      "name": "python3",
      "display_name": "Python 3"
    },
    "language_info": {
      "name": "python"
    }
  },
  "cells": [
    {
      "cell_type": "markdown",
      "metadata": {
        "id": "view-in-github",
        "colab_type": "text"
      },
      "source": [
        "<a href=\"https://colab.research.google.com/github/chia-yu0225/work/blob/main/EX01_07_%E7%BE%8E%E9%A3%9F%E8%B3%87%E8%A8%8A%E6%9F%A5%E8%A9%A2.ipynb\" target=\"_parent\"><img src=\"https://colab.research.google.com/assets/colab-badge.svg\" alt=\"Open In Colab\"/></a>"
      ]
    },
    {
      "cell_type": "code",
      "execution_count": 5,
      "metadata": {
        "id": "0VhspMn8r4_E",
        "colab": {
          "base_uri": "https://localhost:8080/",
          "height": 395
        },
        "outputId": "a01aabbd-c02c-4114-9438-c751fb4f04b6"
      },
      "outputs": [
        {
          "output_type": "error",
          "ename": "ModuleNotFoundError",
          "evalue": "No module named 'gradio'",
          "traceback": [
            "\u001b[0;31m---------------------------------------------------------------------------\u001b[0m",
            "\u001b[0;31mModuleNotFoundError\u001b[0m                       Traceback (most recent call last)",
            "\u001b[0;32m<ipython-input-5-60e39cd0b059>\u001b[0m in \u001b[0;36m<cell line: 0>\u001b[0;34m()\u001b[0m\n\u001b[0;32m----> 1\u001b[0;31m \u001b[0;32mimport\u001b[0m \u001b[0mgradio\u001b[0m \u001b[0;32mas\u001b[0m \u001b[0mgr\u001b[0m\u001b[0;34m\u001b[0m\u001b[0;34m\u001b[0m\u001b[0m\n\u001b[0m\u001b[1;32m      2\u001b[0m \u001b[0;34m\u001b[0m\u001b[0m\n\u001b[1;32m      3\u001b[0m \u001b[0;34m\u001b[0m\u001b[0m\n\u001b[1;32m      4\u001b[0m food_database = [\n\u001b[1;32m      5\u001b[0m     \u001b[0;34m{\u001b[0m\u001b[0;34m\"name\"\u001b[0m\u001b[0;34m:\u001b[0m \u001b[0;34m\"春蘭割包\"\u001b[0m\u001b[0;34m,\u001b[0m \u001b[0;34m\"address\"\u001b[0m\u001b[0;34m:\u001b[0m \u001b[0;34m\"800高雄市新興區復興一路5號\"\u001b[0m\u001b[0;34m,\u001b[0m \u001b[0;34m\"phone\"\u001b[0m\u001b[0;34m:\u001b[0m \u001b[0;34m\"+88672017806\"\u001b[0m\u001b[0;34m}\u001b[0m\u001b[0;34m,\u001b[0m\u001b[0;34m\u001b[0m\u001b[0;34m\u001b[0m\u001b[0m\n",
            "\u001b[0;31mModuleNotFoundError\u001b[0m: No module named 'gradio'",
            "",
            "\u001b[0;31m---------------------------------------------------------------------------\u001b[0;32m\nNOTE: If your import is failing due to a missing package, you can\nmanually install dependencies using either !pip or !apt.\n\nTo view examples of installing some common dependencies, click the\n\"Open Examples\" button below.\n\u001b[0;31m---------------------------------------------------------------------------\u001b[0m\n"
          ],
          "errorDetails": {
            "actions": [
              {
                "action": "open_url",
                "actionText": "Open Examples",
                "url": "/notebooks/snippets/importing_libraries.ipynb"
              }
            ]
          }
        }
      ],
      "source": [
        "import gradio as gr\n",
        "\n",
        "\n",
        "food_database = [\n",
        "    {\"name\": \"春蘭割包\", \"address\": \"800高雄市新興區復興一路5號\", \"phone\": \"+88672017806\"},\n",
        "    {\"name\": \"上海生煎湯包\", \"address\": \"807高雄市三民區熱河一街208號\", \"phone\": \"+88673220702\"},\n",
        "    {\"name\": \"岡山舊市羊肉\", \"address\": \"820高雄市岡山區河華路111號\", \"phone\": \"+88676258151\"},\n",
        "    {\"name\": \"黃家肉燥飯\", \"address\": \"825高雄市橋頭區橋南路106號\", \"phone\": \"+88676123253\"},\n",
        "    {\"name\": \"龍記餡餅\", \"address\": \"820高雄市岡山區溪東路2號\", \"phone\": \"\"}\n",
        "]\n",
        "\n",
        "menu = [ im[\"name\"] for im in food_database ]\n",
        "\n",
        "\n",
        "\n",
        "def food_info(store_name):\n",
        "    info = ''\n",
        "    for im in food_database:\n",
        "        if im[\"name\"] == store_name:\n",
        "            info = im[\"name\"]+ '\\n'+ im[\"address\"] + '\\n' + im[\"phone\"]\n",
        "            return info\n",
        "    return 'not found'\n",
        "interface = gr.Interface(\n",
        "    fn=food_info,  # 要建立介面的函數\n",
        "    inputs=gr.Dropdown(choices=menu, label='請輸入餐廳：'),  # 輸入類型\n",
        "    outputs=gr.Textbox(label='餐廳資訊:')  # 輸出類型\n",
        ")\n",
        "# 啟動介面\n",
        "interface.launch()"
      ]
    },
    {
      "cell_type": "code",
      "source": [
        "\n",
        "\n",
        "import gradio as gr\n",
        "def greet(name):\n",
        "    return f\"Hello, {name}!\"\n",
        "# 建立介面\n",
        "interface = gr.Interface(\n",
        "    fn=greet,  # 要建立介面的函數\n",
        "    inputs=\"textbox\",  # 輸入類型\n",
        "    outputs=\"textbox\"  # 輸出類型\n",
        ")\n",
        "# 啟動介面\n",
        "interface.launch()"
      ],
      "metadata": {
        "id": "FL1SAKNG41Iq"
      },
      "execution_count": null,
      "outputs": []
    }
  ]
}