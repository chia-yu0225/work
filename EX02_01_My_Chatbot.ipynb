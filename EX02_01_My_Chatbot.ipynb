{
  "nbformat": 4,
  "nbformat_minor": 0,
  "metadata": {
    "colab": {
      "provenance": [],
      "authorship_tag": "ABX9TyPHMOwplm3FdnaM9LfNNhi/",
      "include_colab_link": true
    },
    "kernelspec": {
      "name": "python3",
      "display_name": "Python 3"
    },
    "language_info": {
      "name": "python"
    }
  },
  "cells": [
    {
      "cell_type": "markdown",
      "metadata": {
        "id": "view-in-github",
        "colab_type": "text"
      },
      "source": [
        "<a href=\"https://colab.research.google.com/github/chia-yu0225/work/blob/main/EX02_01_My_Chatbot.ipynb\" target=\"_parent\"><img src=\"https://colab.research.google.com/assets/colab-badge.svg\" alt=\"Open In Colab\"/></a>"
      ]
    },
    {
      "cell_type": "code",
      "execution_count": null,
      "metadata": {
        "id": "EqUlNoq-R56N"
      },
      "outputs": [],
      "source": [
        "from google.colab import userdata\n",
        "import google.generativeai as genai\n",
        "genai.configure(api_key=userdata.get('GOOGLE_API_KEY'))\n",
        "\n",
        "\n"
      ]
    },
    {
      "cell_type": "code",
      "source": [
        "generation_config = {\n",
        "    \"temperature\": 1,\n",
        "    \"max_output_tokens\":1280\n",
        "}\n",
        "model = genai.GenerativeModel(\n",
        "    model name=\"gemini-2.0-flash\"\n",
        "    generation_config=generation_config\n",
        ")"
      ],
      "metadata": {
        "id": "LCGqx0SsSeLL"
      },
      "execution_count": null,
      "outputs": []
    },
    {
      "cell_type": "code",
      "source": [
        "from IPython.display import Markdown, display\n",
        "\n",
        "chat = model.start_chat(history=[])\n",
        "\n",
        "while True:\n",
        "    message = input('you:')\n",
        "    if message == 'bye':\n",
        "        break\n",
        "    response = chat.send_message('message')\n",
        "    print('bot:')\n",
        "    display(Markdown(response.text))"
      ],
      "metadata": {
        "id": "0omrE9AlSjOp"
      },
      "execution_count": null,
      "outputs": []
    }
  ]
}