{
  "nbformat": 4,
  "nbformat_minor": 0,
  "metadata": {
    "colab": {
      "provenance": [],
      "authorship_tag": "ABX9TyOvB+5gsdL7XFZ8TImVeOsL",
      "include_colab_link": true
    },
    "kernelspec": {
      "name": "python3",
      "display_name": "Python 3"
    },
    "language_info": {
      "name": "python"
    }
  },
  "cells": [
    {
      "cell_type": "markdown",
      "metadata": {
        "id": "view-in-github",
        "colab_type": "text"
      },
      "source": [
        "<a href=\"https://colab.research.google.com/github/chia-yu0225/work/blob/main/EX03_05_%E5%8F%B0%E7%81%A3%E8%82%A1%E7%A5%A8%E5%B8%82%E5%A0%B4%E5%80%8B%E8%82%A1%E6%AF%8F%E6%97%A5%E6%88%90%E4%BA%A4%E8%B3%87%E8%A8%8A.ipynb\" target=\"_parent\"><img src=\"https://colab.research.google.com/assets/colab-badge.svg\" alt=\"Open In Colab\"/></a>"
      ]
    },
    {
      "cell_type": "code",
      "execution_count": null,
      "metadata": {
        "id": "izmamhmFcse_"
      },
      "outputs": [],
      "source": [
        "import pandas as pd\n",
        "\n",
        "url = 'https://www.twse.com.tw/rwd/zh/afterTrading/STOCK_DAY?date=20250422&stockNo=0050&response=html'\n",
        "df = pd.read_html(url, header = 1)[0]\n",
        "df\n",
        "\n"
      ]
    },
    {
      "cell_type": "code",
      "source": [
        "import pandas as pd\n",
        "def get_stock_data(date, stock_no):\n",
        "    url = f'https://www.twse.com.tw/rwd/zh/afterTrading/STOCK_DAY?date={date}&stockNo={stock_no}&response=html'\n",
        "    df_mth = pd.read_html(url, header = 1)[0]\n",
        "    return df_mth"
      ],
      "metadata": {
        "id": "t3Pzva8FlP3E"
      },
      "execution_count": null,
      "outputs": []
    },
    {
      "cell_type": "code",
      "source": [
        "date_list = []\n",
        "years = [2024, 2025]\n",
        "\n",
        "for i in range(3, 16):\n",
        "    year = 2024 + (i//12)\n",
        "    mth = i%12 +1\n",
        "    date_list.append(f'{year}{mth:02}01')\n",
        "date_list"
      ],
      "metadata": {
        "id": "AGn2md69nR0P"
      },
      "execution_count": null,
      "outputs": []
    },
    {
      "cell_type": "code",
      "source": [
        "date_range = pd.date_range(start='2024-04-01',end='2025-04-01',freq='MS')\n",
        "date_list= date_range.strftime('%Y%m%d').to_list()\n",
        "date_list"
      ],
      "metadata": {
        "id": "JD4wi9tCpzk8"
      },
      "execution_count": null,
      "outputs": []
    },
    {
      "cell_type": "code",
      "source": [
        "df = pd.DateFrame()\n",
        "for date in date_list:\n",
        "    df_mth = pd.concat([df, get_stock_data(date, '0050')], ignore_index=True)\n",
        "\n",
        "df"
      ],
      "metadata": {
        "id": "hIiyIaWqNfP3"
      },
      "execution_count": null,
      "outputs": []
    },
    {
      "cell_type": "code",
      "source": [
        "df.plot(kind='line',x='日期',y='收盤價',figsize(12,4))\n",
        "\n",
        "plt.show"
      ],
      "metadata": {
        "id": "Z1AVcUryObcS"
      },
      "execution_count": null,
      "outputs": []
    },
    {
      "cell_type": "code",
      "source": [
        "df.plot(kind='bar',x='日期',y='成交股數',figsize=(12,4))\n",
        "\n",
        "plt.show"
      ],
      "metadata": {
        "id": "JwEaR1UYPWTP"
      },
      "execution_count": null,
      "outputs": []
    },
    {
      "cell_type": "code",
      "source": [
        "fig, ax1 = plt.subplots(figsize=(12,4))\n",
        "\n",
        "df.plot(kind='line',x='日期',y='收盤價',ax=ax1,color='blue')\n",
        "\n",
        "ax2 = ax1.twinx()\n",
        "\n",
        "df.plot(kind='bar',x='日期',y='成交股數',ax=ax2,color='red')\n",
        "\n",
        "plt.show()\n"
      ],
      "metadata": {
        "id": "5k9QAECuPtQn"
      },
      "execution_count": null,
      "outputs": []
    },
    {
      "cell_type": "code",
      "source": [],
      "metadata": {
        "id": "mMZVv4UfQ2T3"
      },
      "execution_count": null,
      "outputs": []
    },
    {
      "cell_type": "code",
      "source": [
        "df['漲跌價差'] = pd.to_numeric(df['漲跌價差'])\n",
        "df['color'] = df['漲跌價差'].apply(lambda x: 'green' if x < 0 else 'red')\n",
        "\n",
        "\n",
        "fig, ax1 = plt.subplots(figsize=(12,4))\n",
        "\n",
        "df.plot(kind='line',x='日期',y='收盤價',ax=ax1,color='blue')\n",
        "\n",
        "ax2 = ax1.twinx()\n",
        "\n",
        "df.plot(kind='bar',x='日期',y='成交股數',ax=ax2,color=df['color'])\n",
        "\n",
        "plt.show()\n"
      ],
      "metadata": {
        "id": "PJ4WXJ85T9O8"
      },
      "execution_count": null,
      "outputs": []
    }
  ]
}